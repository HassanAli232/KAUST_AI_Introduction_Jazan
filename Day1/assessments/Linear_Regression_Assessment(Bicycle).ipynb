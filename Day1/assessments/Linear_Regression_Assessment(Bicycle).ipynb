{
 "cells": [
  {
   "cell_type": "markdown",
   "metadata": {
    "id": "fEJ_E7ZGkSRa"
   },
   "source": [
    "## Task: Predict number of bikers on a given day using linear regression\n",
    "\n",
    "You are provided with a dataset about Seattle's Fremont Bridge in the form of a csv file.\n",
    "The data contains different details about a given day, like weather, temperature and other factors (see the dataframe preview below) for more details. The data also contains how many bikers were observed crossing the brudge that day.\n",
    "\n",
    "You are provided with the code to download and load the csv file.\n",
    "\n",
    "Your task is to train a linear regression model which takes in the parameters of the day (you can drop the columns that you think you don't need) and predicts the number of bikers according to those parameters.\n",
    "\n",
    "You can find more details about the data: https://archive.ics.uci.edu/dataset/275/bike+sharing+dataset\n",
    "\n",
    "Fanaee-T, H. (2013). Bike Sharing [Dataset]. UCI Machine Learning Repository. https://doi.org/10.24432/C5W894."
   ]
  },
  {
   "cell_type": "code",
   "execution_count": 1,
   "metadata": {
    "executionInfo": {
     "elapsed": 2,
     "status": "ok",
     "timestamp": 1700649448723,
     "user": {
      "displayName": "Telha Bin Bilal",
      "userId": "04147761314111353462"
     },
     "user_tz": -300
    },
    "id": "7uAMaDaamBP6"
   },
   "outputs": [],
   "source": [
    "from IPython.display import clear_output"
   ]
  },
  {
   "cell_type": "code",
   "execution_count": 2,
   "metadata": {
    "executionInfo": {
     "elapsed": 26155,
     "status": "ok",
     "timestamp": 1700649475475,
     "user": {
      "displayName": "Telha Bin Bilal",
      "userId": "04147761314111353462"
     },
     "user_tz": -300
    },
    "id": "vhGxkHdlmEiI"
   },
   "outputs": [],
   "source": [
    "# Incase you run this notebook outside colab (where the libraries aren't already pre-installed)\n",
    "\n",
    "%pip install gdown\n",
    "%pip install pandas\n",
    "%pip install numpy\n",
    "\n",
    "clear_output()"
   ]
  },
  {
   "cell_type": "code",
   "execution_count": 3,
   "metadata": {
    "colab": {
     "base_uri": "https://localhost:8080/"
    },
    "executionInfo": {
     "elapsed": 2622,
     "status": "ok",
     "timestamp": 1700649490656,
     "user": {
      "displayName": "Telha Bin Bilal",
      "userId": "04147761314111353462"
     },
     "user_tz": -300
    },
    "id": "QlS3O4RzjKcw",
    "outputId": "781499c6-fb15-4314-b47f-e9d64ac76e10"
   },
   "outputs": [
    {
     "name": "stdout",
     "output_type": "stream",
     "text": [
      "Downloading...\n",
      "From: https://drive.google.com/uc?id=1_eJU8Y-31_l0oq1sSJT6pROJyo-ufuvD\n",
      "To: /content/bikers_data.csv\n",
      "\r  0% 0.00/213k [00:00<?, ?B/s]\r100% 213k/213k [00:00<00:00, 97.1MB/s]\n"
     ]
    }
   ],
   "source": [
    "# Download the CSV file.\n",
    "!wget https://archive.ics.uci.edu/static/public/275/bike+sharing+dataset.zip\n",
    "!unzip bike+sharing+dataset.zip\n",
    "!rm hour.csv"
   ]
  },
  {
   "cell_type": "code",
   "execution_count": 4,
   "metadata": {
    "executionInfo": {
     "elapsed": 684,
     "status": "ok",
     "timestamp": 1700649498632,
     "user": {
      "displayName": "Telha Bin Bilal",
      "userId": "04147761314111353462"
     },
     "user_tz": -300
    },
    "id": "-LKzVz90jUup"
   },
   "outputs": [],
   "source": [
    "import pandas as pd\n",
    "import numpy as np"
   ]
  },
  {
   "cell_type": "code",
   "execution_count": null,
   "metadata": {
    "id": "jXVeVAtXkQL4"
   },
   "outputs": [],
   "source": []
  }
 ],
 "metadata": {
  "colab": {
   "authorship_tag": "ABX9TyMKNd6+DCsh2/OW3egjal1v",
   "provenance": []
  },
  "kernelspec": {
   "display_name": "Python 3",
   "name": "python3"
  },
  "language_info": {
   "name": "python"
  }
 },
 "nbformat": 4,
 "nbformat_minor": 0
}
