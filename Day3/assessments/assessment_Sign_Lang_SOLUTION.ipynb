{
  "nbformat": 4,
  "nbformat_minor": 0,
  "metadata": {
    "colab": {
      "provenance": [],
      "collapsed_sections": [
        "qWb17ZPBAWvP"
      ],
      "gpuType": "T4"
    },
    "kernelspec": {
      "name": "python3",
      "display_name": "Python 3"
    },
    "language_info": {
      "name": "python"
    },
    "accelerator": "GPU"
  },
  "cells": [
    {
      "cell_type": "code",
      "execution_count": 1,
      "metadata": {
        "id": "BCpQaqwoH2Pk"
      },
      "outputs": [],
      "source": [
        "from IPython.display import clear_output"
      ]
    },
    {
      "cell_type": "code",
      "source": [
        "\n",
        "# Download the required libraries (needed when running outside colab where the environment doesn't come pre-loaded with libraries)\n",
        "\n",
        "%pip install torch\n",
        "%pip install torchvision\n",
        "%pip install matplotlib\n",
        "\n",
        "clear_output()"
      ],
      "metadata": {
        "id": "HBuuF9MJKjoe"
      },
      "execution_count": null,
      "outputs": []
    },
    {
      "cell_type": "code",
      "source": [
        "import torch\n",
        "import torch.nn as nn\n",
        "import torch.nn.functional as F\n",
        "\n",
        "from torchvision.datasets import MNIST\n",
        "from torchvision.transforms.functional import to_tensor, to_pil_image, resize\n",
        "from torchvision import transforms\n",
        "\n",
        "from torch.utils.data import DataLoader\n",
        "from torch.optim import Adam\n",
        "\n",
        "import matplotlib.pyplot as plt"
      ],
      "metadata": {
        "id": "gtV7omCIKq0K"
      },
      "execution_count": 2,
      "outputs": []
    },
    {
      "cell_type": "markdown",
      "source": [
        "# Sign Langauge Problem:\n",
        "\n",
        "## Intution: The AI is so powrful and important because of its various applications on most if not all the different fields. As a result, we want to help in solving the issue of not understanding sign languages.\n",
        "\n",
        "## - This notebook contains a detailed implementaiton of a NN uisng Pytorch.\n",
        "\n",
        "### 1. Data set Details:\n",
        "\n",
        "- The provided data set is ArASL (Arabic Alphabets Sign Language Dataset). It is as its name says, an arabic sighn langauge for Arabic alphabet. It has a total of 54049 images and their corrssponding labels.\n",
        "\n",
        "### 2. Size of data:\n",
        "- Length of train_dataset is 43239,\n",
        "- Length of val_dataset is 10810\n",
        "\n",
        "### 3. Labels representations:\n",
        "- Each sample has a label, which can be one of the 32 classes.\n",
        "It consist of 32 classes for the alphabet.\n",
        "- The classes values are integers from 0 up to 31.\n",
        "\n",
        "\n",
        "### 4. The mapping details:\n",
        "\n",
        "- Each number represents a charcter. You can see the dictionary in the variable \"mapping\".\n",
        "\n",
        "<br/>\n",
        "-- You can see the mapping in the following:\n",
        "\n",
        "0: 'seen', 1: 'zay', 2: 'aleff', 3: 'dal', 4: 'ta', 5: 'yaa', 6: 'fa', 7: 'ya', 8: 'khaa', 9: 'nun', 10: 'ha', 11: 'toot', 12: 'taa', 13: 'ra', 14: 'kaaf', 15: 'jeem', 16: 'laam', 17: 'la', 18: 'dhad', 19: 'dha', 20: 'waw', 21: 'meem', 22: 'al', 23: 'sheen', 24: 'haa', 25: 'thaa', 26: 'saad', 27: 'ghain', 28: 'ain', 29: 'thal', 30: 'gaaf', 31: 'bb'\n",
        "\n",
        "### 5. Refrence:\n",
        "Latif, G., Mohammad, N., Alghazo, J., AlKhalaf, R., & AlKhalaf, R. (2019). ARASL: Arabic Alphabets Sign Language Dataset. *Data in Brief*, 23, 103777. https://doi.org/10.1016/j.dib.2019.103777"
      ],
      "metadata": {
        "id": "JBNjc2JpLGIa"
      }
    },
    {
      "cell_type": "markdown",
      "source": [
        "## Downloading the dataset\n",
        "\n",
        "### Run the following cells to download the MNIST dataset."
      ],
      "metadata": {
        "id": "Gw5z1ZSoLlh1"
      }
    },
    {
      "cell_type": "code",
      "source": [
        "!gdown https://data.mendeley.com/public-files/datasets/y7pckrw6z2/files/1efa0d6b-4d7f-4f58-9584-08f0488279ee/file_downloaded"
      ],
      "metadata": {
        "colab": {
          "base_uri": "https://localhost:8080/"
        },
        "id": "AqQxPwbp7TfV",
        "outputId": "8a3cbda9-3b4a-4d93-d858-6affcf6c1d96"
      },
      "execution_count": 3,
      "outputs": [
        {
          "output_type": "stream",
          "name": "stdout",
          "text": [
            "Downloading...\n",
            "From: https://data.mendeley.com/public-files/datasets/y7pckrw6z2/files/1efa0d6b-4d7f-4f58-9584-08f0488279ee/file_downloaded\n",
            "To: /content/file_downloaded\n",
            "100% 66.2M/66.2M [00:04<00:00, 16.1MB/s]\n"
          ]
        }
      ]
    },
    {
      "cell_type": "code",
      "source": [
        "!unzip file_downloaded\n",
        "clear_output()"
      ],
      "metadata": {
        "id": "yfnx8Ebf7pTT"
      },
      "execution_count": 4,
      "outputs": []
    },
    {
      "cell_type": "markdown",
      "source": [
        "## Just run these two cells. You are not supposed to explore them."
      ],
      "metadata": {
        "id": "qWb17ZPBAWvP"
      }
    },
    {
      "cell_type": "code",
      "source": [
        "import os\n",
        "\n",
        "def rename_folders_and_create_mapping(folder_path):\n",
        "    # Get the list of folders in the specified path\n",
        "    folders = [folder for folder in os.listdir(folder_path) if os.path.isdir(os.path.join(folder_path, folder))]\n",
        "\n",
        "    # Create a mapping from original folder names to numbers\n",
        "    folder_mapping = {folder: i for i, folder in enumerate(folders)}\n",
        "\n",
        "    # Rename the folders in-place and store the original names in the mapping\n",
        "    for original_folder, number in folder_mapping.items():\n",
        "        new_folder_name = str(number)\n",
        "        new_folder_path = os.path.join(folder_path, new_folder_name)\n",
        "\n",
        "        # Rename the folder\n",
        "        os.rename(os.path.join(folder_path, original_folder), new_folder_path)\n",
        "\n",
        "    return folder_mapping\n",
        "\n",
        "folder_path = 'ArASL_Database_54K_Final'\n",
        "\n",
        "# Create the folder mapping and rename folders\n",
        "mapping = rename_folders_and_create_mapping(folder_path)\n",
        "\n",
        "# Print the folder mapping\n",
        "print(\"Folder Mapping:\")\n",
        "print(mapping)\n"
      ],
      "metadata": {
        "colab": {
          "base_uri": "https://localhost:8080/"
        },
        "id": "6sjyA1C1E5ik",
        "outputId": "7465cf99-c3f8-457d-8d28-5c8b0de9a1d1"
      },
      "execution_count": 5,
      "outputs": [
        {
          "output_type": "stream",
          "name": "stdout",
          "text": [
            "Folder Mapping:\n",
            "{'ya': 0, 'thaa': 1, 'ra': 2, 'gaaf': 3, 'seen': 4, 'taa': 5, 'laam': 6, 'bb': 7, 'al': 8, 'dhad': 9, 'ain': 10, 'yaa': 11, 'aleff': 12, 'nun': 13, 'kaaf': 14, 'jeem': 15, 'haa': 16, 'waw': 17, 'thal': 18, 'saad': 19, 'meem': 20, 'dha': 21, 'sheen': 22, 'toot': 23, 'dal': 24, 'fa': 25, 'ta': 26, 'zay': 27, 'la': 28, 'ghain': 29, 'khaa': 30, 'ha': 31}\n"
          ]
        }
      ]
    },
    {
      "cell_type": "code",
      "source": [
        "import torch\n",
        "from torch.utils.data import Dataset, DataLoader\n",
        "from torchvision import transforms\n",
        "from PIL import Image\n",
        "import os\n",
        "\n",
        "class CustomDataset(Dataset):\n",
        "    def __init__(self, root_folder, transform=None, target_size=(28, 28)):\n",
        "        self.root_folder = root_folder\n",
        "        self.transform = transform\n",
        "        self.target_size = target_size\n",
        "\n",
        "        # Get the list of image files\n",
        "        self.image_files = []\n",
        "        self.image_labels = []\n",
        "\n",
        "        for root, dirs, files in os.walk(root_folder):\n",
        "            for file in files:\n",
        "                if file.lower().endswith('.jpg'):\n",
        "                    self.image_files.append(os.path.join(root, file))\n",
        "                    self.image_labels.append(int(os.path.basename(root)))\n",
        "\n",
        "    def __len__(self):\n",
        "        return len(self.image_labels)\n",
        "\n",
        "    def __getitem__(self, idx):\n",
        "        img_path = self.image_files[idx]\n",
        "        label = self.image_labels[idx]\n",
        "\n",
        "        # Convert label to tensor\n",
        "        # print(\"Label\", label, type(label))\n",
        "        label = torch.tensor(label)\n",
        "\n",
        "        # Open the image\n",
        "        with Image.open(img_path) as img:\n",
        "            # Convert the image to grayscale\n",
        "            img = img.convert('L')\n",
        "\n",
        "            # Resize the image\n",
        "            img = img.resize(self.target_size)\n",
        "\n",
        "            # Apply additional transformations if specified\n",
        "            if self.transform:\n",
        "                img = self.transform(img)\n",
        "\n",
        "            return (img, label)\n",
        "\n",
        "# Define the root folder and output folder\n",
        "root_folder_path = 'ArASL_Database_54K_Final'\n",
        "\n",
        "\n",
        "# Define transformations (resize to 28x28 and convert to tensor)\n",
        "data_transform = transforms.Compose([\n",
        "    transforms.Resize((48, 48)),\n",
        "    transforms.ToTensor(),\n",
        "])\n",
        "\n",
        "# Create an instance of the custom dataset\n",
        "custom_dataset = CustomDataset(root_folder_path, transform=data_transform)\n",
        "\n",
        "from torch.utils.data import random_split\n",
        "\n",
        "# Define the size of the training and validation sets\n",
        "total_size = len(custom_dataset)\n",
        "train_size = int(0.8 * total_size)  # 80% for training\n",
        "val_size = total_size - train_size  # 20% for validation\n",
        "\n",
        "# Split the dataset\n",
        "train_dataset, val_dataset = random_split(custom_dataset, [train_size, val_size])\n",
        "\n",
        "mapping = {v:k for k,v in mapping.items()}"
      ],
      "metadata": {
        "id": "Efxefg5j94pO"
      },
      "execution_count": 6,
      "outputs": []
    },
    {
      "cell_type": "markdown",
      "source": [
        "## Exploring the data"
      ],
      "metadata": {
        "id": "ObDvaInfAdBJ"
      }
    },
    {
      "cell_type": "markdown",
      "source": [
        "#### Here is the mapping for each class and its encoding. In addition to the train_dataset and val_dataset"
      ],
      "metadata": {
        "id": "GmA6buxlh9XI"
      }
    },
    {
      "cell_type": "code",
      "source": [
        "train_dataset # Contains the training ArASL_Database_54K_Final dataset (80%)\n",
        "\n",
        "val_dataset  # Contains the validating ArASL_Database_54K_Final dataset (20%)\n",
        "\n",
        "\n",
        "print(\"The mapping between the letters and the encoding: \\n\", mapping)\n",
        "print('Length of train_dataset is', len(train_dataset))\n",
        "print('Length of val_dataset is'  , len(val_dataset))"
      ],
      "metadata": {
        "colab": {
          "base_uri": "https://localhost:8080/"
        },
        "id": "60ugrf0DMF2N",
        "outputId": "e8c7f437-1841-42be-f940-462a6b41e5a6"
      },
      "execution_count": 7,
      "outputs": [
        {
          "output_type": "stream",
          "name": "stdout",
          "text": [
            "The mapping between the letters and the encoding: \n",
            " {0: 'ya', 1: 'thaa', 2: 'ra', 3: 'gaaf', 4: 'seen', 5: 'taa', 6: 'laam', 7: 'bb', 8: 'al', 9: 'dhad', 10: 'ain', 11: 'yaa', 12: 'aleff', 13: 'nun', 14: 'kaaf', 15: 'jeem', 16: 'haa', 17: 'waw', 18: 'thal', 19: 'saad', 20: 'meem', 21: 'dha', 22: 'sheen', 23: 'toot', 24: 'dal', 25: 'fa', 26: 'ta', 27: 'zay', 28: 'la', 29: 'ghain', 30: 'khaa', 31: 'ha'}\n",
            "Length of train_dataset is 43239\n",
            "Length of val_dataset is 10810\n"
          ]
        }
      ]
    },
    {
      "cell_type": "code",
      "source": [
        "batch_size = 64 # To group each k samples together.\n",
        "\n",
        "# DataLoaders simplify the job of grouping the samples into batches.\n",
        "train_loader = DataLoader(train_dataset, batch_size=batch_size, shuffle=True)\n",
        "val_loader = DataLoader(val_dataset, batch_size=batch_size, shuffle=False)  # no need to shuffle validation data"
      ],
      "metadata": {
        "id": "Oj4XUGKBQmwH"
      },
      "execution_count": 8,
      "outputs": []
    },
    {
      "cell_type": "markdown",
      "source": [
        "## Let's visualize an image and its channels"
      ],
      "metadata": {
        "id": "4bw5HNZeQ7Gc"
      }
    },
    {
      "cell_type": "code",
      "source": [
        "random_img_idx = 30 # Write any random index (between 0 and 59999)\n",
        "\n",
        "image = train_dataset[random_img_idx][0]  # 0 for image part in (image, label) tuple.\n",
        "label = train_dataset[random_img_idx][1]  # 1 for label part\n",
        "\n",
        "print(\"The image shape:\", image.shape)\n",
        "print('Number of channels in image: ', image.shape[0]) # 1 channel (layer) for black-white images.\n",
        "print(\"The image label:\", label.item(), mapping[label.item()])\n",
        "\n",
        "plt.imshow(image.reshape(48, 48), cmap='gray')"
      ],
      "metadata": {
        "colab": {
          "base_uri": "https://localhost:8080/",
          "height": 504
        },
        "id": "kXxCJ5pQQ5jw",
        "outputId": "b546db38-662f-4824-f6db-eefa84e9cf68"
      },
      "execution_count": 9,
      "outputs": [
        {
          "output_type": "stream",
          "name": "stdout",
          "text": [
            "The image shape: torch.Size([1, 48, 48])\n",
            "Number of channels in image:  1\n",
            "The image label: 20 meem\n"
          ]
        },
        {
          "output_type": "execute_result",
          "data": {
            "text/plain": [
              "<matplotlib.image.AxesImage at 0x787a629b65f0>"
            ]
          },
          "metadata": {},
          "execution_count": 9
        },
        {
          "output_type": "display_data",
          "data": {
            "text/plain": [
              "<Figure size 640x480 with 1 Axes>"
            ],
            "image/png": "[encoded data removed]"
          },
          "metadata": {}
        }
      ]
    },
    {
      "cell_type": "markdown",
      "source": [
        "### Create a loop to show 10 different images ranodmly"
      ],
      "metadata": {
        "id": "5wATuG1cPwms"
      }
    },
    {
      "cell_type": "code",
      "source": [
        "import random\n",
        "\n",
        "# create figure\n",
        "fig = plt.figure(figsize=(9, 9))\n",
        "\n",
        "for i in range(10):\n",
        "    random_img_idx = random.randint(0, 43238) # Write any random index (between 0 and 43238)\n",
        "\n",
        "    image = train_dataset[random_img_idx][0]  # 0 for image part in (image, label) tuple.\n",
        "    label = train_dataset[random_img_idx][1]  # 1 for label part\n",
        "\n",
        "    # Adds a subplot at the 2nd position\n",
        "    fig.add_subplot(3, 4, i+1)\n",
        "    plt.title(mapping[label.item()])\n",
        "    plt.imshow(image.reshape(48, 48), cmap='gray')"
      ],
      "metadata": {
        "colab": {
          "base_uri": "https://localhost:8080/",
          "height": 723
        },
        "id": "SIHE3pWlPvvK",
        "outputId": "44cb0532-a1fe-45a9-fc71-6bc2f569a914"
      },
      "execution_count": 10,
      "outputs": [
        {
          "output_type": "display_data",
          "data": {
            "text/plain": [
              "<Figure size 900x900 with 10 Axes>"
            ],
            "image/png": "[encoded data removed]"
          },
          "metadata": {}
        }
      ]
    },
    {
      "cell_type": "markdown",
      "source": [
        "### Create a NN uisng Pytorch. Play with the layers to get the best model on the validation data."
      ],
      "metadata": {
        "id": "qvysz1ZnSh7f"
      }
    },
    {
      "cell_type": "code",
      "source": [
        "import torch.nn.functional as F\n",
        "class SignLangModel(nn.Module):\n",
        "  def __init__(self, input_size):\n",
        "    super(SignLangModel, self).__init__()\n",
        "\n",
        "\n",
        "    self.linear1 = nn.Linear(input_size, 1024)\n",
        "    self.linear2 = nn.Linear(1024, 512)\n",
        "    self.linear3 = nn.Linear(512, 128)\n",
        "    self.linear4 = nn.Linear(128, 32)\n",
        "\n",
        "\n",
        "  def forward(self, x):\n",
        "\n",
        "    x = torch.relu(self.linear1(x))\n",
        "    x = torch.relu(self.linear2(x))\n",
        "    x = torch.relu(self.linear3(x))\n",
        "    x = self.linear4(x)\n",
        "\n",
        "    return x"
      ],
      "metadata": {
        "id": "qsgP23s4QNib"
      },
      "execution_count": 11,
      "outputs": []
    },
    {
      "cell_type": "markdown",
      "source": [
        "### Preparing the mdoel and the optimizer.\n",
        "1. Prepare the device to move the calculations into the GPU.\n",
        "2. Create the model object that you have defined previously."
      ],
      "metadata": {
        "id": "AhOFMlUlS0fR"
      }
    },
    {
      "cell_type": "code",
      "source": [
        "device = 'cuda' if torch.cuda.is_available() else 'cpu'  # checks if machine supports cuda and if it does, we use that, otherwise cpu\n",
        "input_size = 48 * 48\n",
        "model = SignLangModel(input_size).to(device)"
      ],
      "metadata": {
        "id": "Vg_ZO5lNZ5B-"
      },
      "execution_count": 12,
      "outputs": []
    },
    {
      "cell_type": "markdown",
      "source": [
        "#### Define whatever you need of variables before the training loop."
      ],
      "metadata": {
        "id": "aPNgijGDTrTe"
      }
    },
    {
      "cell_type": "code",
      "source": [
        "num_epochs = 15\n",
        "lr = 1e-3\n",
        "\n",
        "train_losses = []\n",
        "val_losses = []\n",
        "\n",
        "optimizer = Adam(model.parameters(), lr=lr) # Adam is an optimizer (i.e. GD, SGD)\n",
        "criterion = nn.CrossEntropyLoss()  # multi-class loss.\n",
        "\n",
        "print(f'Using device {device}')"
      ],
      "metadata": {
        "colab": {
          "base_uri": "https://localhost:8080/"
        },
        "id": "E5wBeaz7Zdar",
        "outputId": "4f6bde7d-6827-480e-a772-e8f1149ab965"
      },
      "execution_count": 13,
      "outputs": [
        {
          "output_type": "stream",
          "name": "stdout",
          "text": [
            "Using device cuda\n"
          ]
        }
      ]
    },
    {
      "cell_type": "markdown",
      "source": [
        "#### Train the model and make sure to store the losses of training and validation sets somewhere for later.\n",
        "\n",
        "1. Create one loop for learninig from the training set.\n",
        "2. Wrap the training loop by a loop for multiple iterations.\n",
        "3. After the training loop, add a loop specified for the validaiton set.\n",
        "4. Compute the accuracy of your model for each iteration."
      ],
      "metadata": {
        "id": "iZtw-DUdTx-7"
      }
    },
    {
      "cell_type": "code",
      "source": [
        "%%time\n",
        "\n",
        "from sklearn.metrics import accuracy_score, precision_score, recall_score, f1_score, classification_report\n",
        "\n",
        "for epoch_no in range(num_epochs):\n",
        "\n",
        "  model.train()  # convert to train model. This turns out train-specific layers in the model (if you dont know about them, an example of them is dropout. more on this later)\n",
        "\n",
        "  epoch_weighted_loss = 0\n",
        "\n",
        "  for batch_X, batch_y in train_loader:\n",
        "\n",
        "    # We need to flatten the input because it is a 2D array (image) not a linear.\n",
        "    batch_X = batch_X.view(-1, 48 * 48)\n",
        "\n",
        "    # Move everything to the device.\n",
        "    batch_X = batch_X.to(device)\n",
        "    batch_y = batch_y.to(device)\n",
        "\n",
        "    # predicite over X.\n",
        "    batch_y_probs = model(batch_X)  # outputs [N, 10] where each [:, 10] is probabilities for class (0-9)\n",
        "\n",
        "    # Compute the loss.\n",
        "    loss = criterion(batch_y_probs, batch_y)\n",
        "\n",
        "    # Reset the gradient.\n",
        "    optimizer.zero_grad()\n",
        "\n",
        "    # Compute the gradient.\n",
        "    loss.backward()\n",
        "\n",
        "    # Update the parameters.\n",
        "    optimizer.step()\n",
        "\n",
        "    # Store the loss.\n",
        "    epoch_weighted_loss += len(batch_y) * loss.item()\n",
        "\n",
        "  epoch_loss = epoch_weighted_loss/len(train_loader.dataset)\n",
        "\n",
        "  train_losses.append(epoch_loss)\n",
        "\n",
        "\n",
        "  # validation time\n",
        "\n",
        "  model.eval()  # take model to evaluation mode. turn off train-only layers\n",
        "\n",
        "  all_preds = []\n",
        "  all_targets = []\n",
        "\n",
        "  with torch.no_grad(): # To stop calculating the gradient since we do not need it here.\n",
        "\n",
        "    val_epoch_weighted_loss = 0\n",
        "\n",
        "    for val_batch_X, val_batch_y in val_loader:\n",
        "\n",
        "        val_batch_X = val_batch_X.view(-1, 48 * 48)\n",
        "\n",
        "        val_batch_X = val_batch_X.to(device)\n",
        "        val_batch_y = val_batch_y.to(device)\n",
        "\n",
        "        # Predict on val_X\n",
        "        val_batch_y_probs = model(val_batch_X)\n",
        "\n",
        "        loss = criterion(val_batch_y_probs, val_batch_y)\n",
        "\n",
        "        val_epoch_weighted_loss += len(val_batch_y) * loss.item()\n",
        "\n",
        "        # convert probailities to labels by picking the label (index) with the highest prob.\n",
        "        val_batch_y_pred = val_batch_y_probs.argmax(dim=1)\n",
        "        all_preds.append(val_batch_y_pred.cpu())\n",
        "        all_targets.append(val_batch_y.cpu())\n",
        "\n",
        "  # Convert to single arrays for sklearn\n",
        "  all_preds = torch.cat(all_preds).numpy()  # Convert list of tensors to a single numpy array\n",
        "  all_targets = torch.cat(all_targets).numpy()\n",
        "\n",
        "  val_epoch_loss = val_epoch_weighted_loss/len(val_loader.dataset)\n",
        "  val_losses.append(val_epoch_loss)\n",
        "\n",
        "  # Compute the evaluation metrics.\n",
        "  accuracy = accuracy_score(all_targets, all_preds)\n",
        "  precision = precision_score(all_targets, all_preds, average='weighted')\n",
        "  recall = recall_score(all_targets, all_preds, average='weighted')\n",
        "  f1 = f1_score(all_targets, all_preds, average='weighted')\n",
        "  classification_rep = classification_report(all_targets, all_preds)\n",
        "\n",
        "\n",
        "\n",
        "  print(f'Epoch: {epoch_no}, train_loss={epoch_loss}, val_loss={val_epoch_loss}.')\n",
        "  print(f'Accuracy: {accuracy}, Precision: {precision}, Recall: {recall}, F1: {f1}')\n",
        "\n",
        "print(f'Training complete on device {device}.')\n",
        "print(classification_rep)\n"
      ],
      "metadata": {
        "colab": {
          "base_uri": "https://localhost:8080/"
        },
        "id": "mVZ6QIbIZb0A",
        "outputId": "7ea86b74-eb9f-4aa4-a8de-9eeb0e2179ca"
      },
      "execution_count": 17,
      "outputs": [
        {
          "output_type": "stream",
          "name": "stdout",
          "text": [
            "Epoch: 0, train_loss=2.0455051780852562, val_loss=1.8456220501335985.\n",
            "Accuracy: 0.42183163737280294, Precision: 0.4609256612589527, Recall: 0.42183163737280294, F1: 0.41525457323602094\n",
            "Epoch: 1, train_loss=1.742499767185931, val_loss=1.5645913058359462.\n",
            "Accuracy: 0.5132284921369102, Precision: 0.5475085890748584, Recall: 0.5132284921369102, F1: 0.5125469375223038\n",
            "Epoch: 2, train_loss=1.4945036868261237, val_loss=1.3898379038044084.\n",
            "Accuracy: 0.5658649398704902, Precision: 0.5951469287896155, Recall: 0.5658649398704902, F1: 0.5638111060468299\n",
            "Epoch: 3, train_loss=1.335459383694332, val_loss=1.2517330245989324.\n",
            "Accuracy: 0.6101757631822387, Precision: 0.6360300391638342, Recall: 0.6101757631822387, F1: 0.6064849574405508\n",
            "Epoch: 4, train_loss=1.188993639596288, val_loss=1.0572448340088654.\n",
            "Accuracy: 0.6673450508788159, Precision: 0.6795797139553696, Recall: 0.6673450508788159, F1: 0.6626946814432744\n",
            "Epoch: 5, train_loss=1.0808548280187527, val_loss=1.0122222996331496.\n",
            "Accuracy: 0.681036077705828, Precision: 0.7052607699185448, Recall: 0.681036077705828, F1: 0.681854138246616\n",
            "Epoch: 6, train_loss=1.0065143641789445, val_loss=0.9786592505024496.\n",
            "Accuracy: 0.6920444033302497, Precision: 0.7119851933608992, Recall: 0.6920444033302497, F1: 0.6891956753645734\n",
            "Epoch: 7, train_loss=0.9151293703810508, val_loss=0.9249055388236245.\n",
            "Accuracy: 0.7051803885291397, Precision: 0.7259066142906309, Recall: 0.7051803885291397, F1: 0.7052991806211966\n",
            "Epoch: 8, train_loss=0.8584728083391299, val_loss=0.8407808165876651.\n",
            "Accuracy: 0.7395929694727105, Precision: 0.7524475423284699, Recall: 0.7395929694727105, F1: 0.7375346075818897\n",
            "Epoch: 9, train_loss=0.8010810564833561, val_loss=0.7625357598314453.\n",
            "Accuracy: 0.7642923219241443, Precision: 0.7753651342428026, Recall: 0.7642923219241443, F1: 0.7627510581241879\n",
            "Epoch: 10, train_loss=0.7516382156681867, val_loss=0.9302359863522977.\n",
            "Accuracy: 0.7190564292321924, Precision: 0.7403297769743076, Recall: 0.7190564292321924, F1: 0.7201702604388749\n",
            "Epoch: 11, train_loss=0.717883591755138, val_loss=0.6978399015928616.\n",
            "Accuracy: 0.7933395004625347, Precision: 0.8020623285815781, Recall: 0.7933395004625347, F1: 0.7915180452171255\n",
            "Epoch: 12, train_loss=0.676435498556185, val_loss=0.8082668333777006.\n",
            "Accuracy: 0.7515263644773358, Precision: 0.7793892764401832, Recall: 0.7515263644773358, F1: 0.7512349995471534\n",
            "Epoch: 13, train_loss=0.6361739354296378, val_loss=0.6705831576121504.\n",
            "Accuracy: 0.8024051803885291, Precision: 0.8107081540379679, Recall: 0.8024051803885291, F1: 0.8006471769557423\n",
            "Epoch: 14, train_loss=0.5996884788482394, val_loss=0.6353543662341186.\n",
            "Accuracy: 0.8165587419056429, Precision: 0.8265373976296492, Recall: 0.8165587419056429, F1: 0.816252573163776\n",
            "Training complete on device cuda.\n",
            "              precision    recall  f1-score   support\n",
            "\n",
            "           0       0.92      0.85      0.89       318\n",
            "           1       0.81      0.77      0.79       371\n",
            "           2       0.78      0.79      0.78       359\n",
            "           3       0.74      0.55      0.63       372\n",
            "           4       0.95      0.78      0.86       317\n",
            "           5       0.93      0.84      0.88       371\n",
            "           6       0.82      0.91      0.86       380\n",
            "           7       0.82      0.89      0.85       349\n",
            "           8       0.82      0.90      0.86       284\n",
            "           9       0.76      0.88      0.82       337\n",
            "          10       0.87      0.92      0.90       423\n",
            "          11       0.96      0.94      0.95       286\n",
            "          12       0.82      0.74      0.78       324\n",
            "          13       0.87      0.93      0.90       343\n",
            "          14       0.75      0.85      0.80       365\n",
            "          15       0.81      0.66      0.73       289\n",
            "          16       0.79      0.85      0.82       291\n",
            "          17       0.70      0.93      0.80       260\n",
            "          18       0.71      0.86      0.78       321\n",
            "          19       0.93      0.66      0.77       386\n",
            "          20       0.90      0.86      0.88       348\n",
            "          21       0.63      0.83      0.72       336\n",
            "          22       0.98      0.83      0.90       307\n",
            "          23       0.83      0.88      0.85       356\n",
            "          24       0.87      0.72      0.79       326\n",
            "          25       0.63      0.82      0.72       378\n",
            "          26       0.89      0.81      0.84       382\n",
            "          27       0.72      0.87      0.79       279\n",
            "          28       0.87      0.89      0.88       345\n",
            "          29       0.97      0.75      0.84       376\n",
            "          30       0.81      0.82      0.81       339\n",
            "          31       0.74      0.58      0.65       292\n",
            "\n",
            "    accuracy                           0.82     10810\n",
            "   macro avg       0.83      0.82      0.82     10810\n",
            "weighted avg       0.83      0.82      0.82     10810\n",
            "\n",
            "CPU times: user 6min 26s, sys: 23.5 s, total: 6min 50s\n",
            "Wall time: 6min 54s\n"
          ]
        }
      ]
    },
    {
      "cell_type": "markdown",
      "source": [
        "#### Plot the training and validation losses.\n",
        "*HINT: Use the result of the plot to improve your model.*"
      ],
      "metadata": {
        "id": "8KpYqMcEU0r1"
      }
    },
    {
      "cell_type": "code",
      "source": [
        "plt.plot(train_losses, label='Train Loss')\n",
        "plt.plot(val_losses  , label='Val Loss')\n",
        "\n",
        "plt.ylabel('Loss (CCE)')\n",
        "plt.xlabel('Epoch')\n",
        "\n",
        "plt.legend()\n",
        "plt.show()"
      ],
      "metadata": {
        "colab": {
          "base_uri": "https://localhost:8080/",
          "height": 453
        },
        "id": "2cMN5vKga0Fk",
        "outputId": "dec86ee8-60d0-4301-c3ce-ac7ebd551bb2"
      },
      "execution_count": 18,
      "outputs": [
        {
          "output_type": "display_data",
          "data": {
            "text/plain": [
              "<Figure size 640x480 with 1 Axes>"
            ],
            "image/png": "[encoded data removed]"
          },
          "metadata": {}
        }
      ]
    }
  ]
}