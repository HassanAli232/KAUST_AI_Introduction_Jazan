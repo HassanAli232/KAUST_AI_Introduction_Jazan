{
  "nbformat": 4,
  "nbformat_minor": 0,
  "metadata": {
    "colab": {
      "provenance": []
    },
    "kernelspec": {
      "name": "python3",
      "display_name": "Python 3"
    },
    "language_info": {
      "name": "python"
    }
  },
  "cells": [
    {
      "cell_type": "code",
      "execution_count": 1,
      "metadata": {
        "id": "VrXxnldCUmV4"
      },
      "outputs": [],
      "source": [
        "from IPython.display import clear_output"
      ]
    },
    {
      "cell_type": "code",
      "source": [
        "# Let's build a custom dataset for our logistic regression model\n",
        "def generateData():\n",
        "  n_points = 400  # num of points in generated data\n",
        "  max_coordinate_value = 100  # max possible value taken by the x or y coordinate of a point\n",
        "\n",
        "  points = np.random.rand(n_points, 2) * max_coordinate_value\n",
        "\n",
        "  l = np.sin(2*math.pi*(points[:, 0]/max_coordinate_value))\n",
        "  l = (l*0.3*max_coordinate_value)+(max_coordinate_value/2)\n",
        "  mask = points[:, 1] > l\n",
        "\n",
        "  labels = np.zeros(n_points)\n",
        "  labels[mask] = 1\n",
        "\n",
        "  divider = (30 * np.sin(2*math.pi*np.linspace(0, max_coordinate_value, max_coordinate_value)/max_coordinate_value))\n",
        "  divider = max_coordinate_value/2 + divider\n",
        "\n",
        "  plt.plot(points[mask][:, 0], points[mask][:, 1], 'ro', label='1')\n",
        "  plt.plot(points[~mask][:, 0], points[~mask][:, 1], 'bo', label='0')\n",
        "  plt.plot(divider)  # visualization only\n",
        "\n",
        "  plt.legend()\n",
        "  plt.show()\n",
        "  return points, labels"
      ],
      "metadata": {
        "id": "ljO9jk91dTK7"
      },
      "execution_count": 28,
      "outputs": []
    },
    {
      "cell_type": "code",
      "source": [
        "# Download the required libraries (needed when running outside colab where the environment doesn't come pre-loaded with libraries)\n",
        "\n",
        "%pip install numpy\n",
        "%pip install scikit-learn\n",
        "%pip install matplotlib\n",
        "%pip install tqdm\n",
        "\n",
        "clear_output()"
      ],
      "metadata": {
        "id": "NjkKB8f-UvD9"
      },
      "execution_count": null,
      "outputs": []
    },
    {
      "cell_type": "code",
      "source": [
        "import math\n",
        "from copy import deepcopy\n",
        "\n",
        "import numpy as np\n",
        "import matplotlib.pyplot as plt\n",
        "\n",
        "from tqdm import tqdm\n",
        "\n",
        "from sklearn.linear_model import LogisticRegression\n",
        "from sklearn.datasets import load_iris\n",
        "from sklearn.model_selection import train_test_split\n",
        "from sklearn.metrics import confusion_matrix"
      ],
      "metadata": {
        "id": "Y3p224jCZANd"
      },
      "execution_count": 2,
      "outputs": []
    },
    {
      "cell_type": "markdown",
      "source": [
        "#Contents:\n",
        "\n",
        "1. Scratch implementation of Logistic Regression using numpy on custom data\n",
        "2. Sklearn implementation of Logistic Regression on IRIS dataset\n",
        "\n",
        "\n",
        "You need to know:\n",
        "\n",
        "1. **numpy** (for impelementation)\n",
        "2. a little bit of **matplotlib** (for visualization)\n",
        "\n",
        "\n",
        "Good to have knowledge of:\n",
        "\n",
        "1. Sklearn (details of the functions is given anyways)"
      ],
      "metadata": {
        "id": "NuqXa4fvYBE7"
      }
    },
    {
      "cell_type": "markdown",
      "source": [
        "## Implementing Logistic Regression from Scratch"
      ],
      "metadata": {
        "id": "ztlkgcooZj9h"
      }
    },
    {
      "cell_type": "markdown",
      "source": [
        "Before we get to coding, Here's are the equations for logistic regression cost function (cross-entropy) and sigmoid function\n",
        "\n",
        "Cost function:\n",
        "\n",
        "$$\n",
        "Cross-Entropy-Loss = -\\left( y \\log(\\hat{y}) + (1 - y) \\log(1 - \\hat{y}) \\right)\n",
        "$$\n",
        "\n",
        "Sigmoid:\n",
        "\n",
        "$$\n",
        "\\sigma(z) = \\frac{1}{1 + e^{-z}}\n",
        "$$"
      ],
      "metadata": {
        "id": "1h7gzReVbKZU"
      }
    },
    {
      "cell_type": "code",
      "source": [
        "def sigmoid(z):\n",
        "    \"\"\"\n",
        "    Apply sigmoid function. Sigmoid brings the output in 0 to 1 range\n",
        "    \"\"\"\n",
        "\n",
        "\n",
        "\n",
        "def log_reg_cost(y, y_pred):  # cross entropy\n",
        "    \"\"\"\n",
        "    Calculates and returns the cost for logistic regression.\n",
        "\n",
        "    Function is slightly different from mentioned above because this one handles batched/vector/multiple inputs (rather than just one).\n",
        "    This function sums and takes average across the vector.\n",
        "    \"\"\"\n",
        "\n",
        "\n",
        "\n",
        "def log_reg_gradient_descent(X, y, learning_rate, n_iters=500):\n",
        "    \"\"\"\n",
        "    Runs gradient descent (param optimization) for logistic regression and returns optimized weights.\n",
        "    \"\"\"\n",
        ""
      ],
      "metadata": {
        "id": "brsnENtgV_BP"
      },
      "execution_count": 22,
      "outputs": []
    },
    {
      "cell_type": "code",
      "source": [
        "points, labels = generateData()"
      ],
      "metadata": {
        "colab": {
          "base_uri": "https://localhost:8080/",
          "height": 430
        },
        "id": "n8E6-YigxYjo",
        "outputId": "0d008025-7db3-4263-d405-ac4766ee8744"
      },
      "execution_count": 29,
      "outputs": [
        {
          "output_type": "display_data",
          "data": {
            "text/plain": [
              "<Figure size 640x480 with 1 Axes>"
            ],
            "image/png": "[encoded data removed]"
          },
          "metadata": {}
        }
      ]
    },
    {
      "cell_type": "code",
      "source": [
        "# rename to X and y.\n",
        "\n",
        "\n",
        "\n"
      ],
      "metadata": {
        "colab": {
          "base_uri": "https://localhost:8080/"
        },
        "id": "wr5MMaz3eDRd",
        "outputId": "fdbd9d45-f9c7-4cbc-9987-26d751a608d0"
      },
      "execution_count": 24,
      "outputs": [
        {
          "output_type": "stream",
          "name": "stdout",
          "text": [
            "Current X shape: (400, 2)\n",
            "New X shape: (400, 3). Extra col added for intercept value\n"
          ]
        }
      ]
    },
    {
      "cell_type": "code",
      "source": [
        "print(X)"
      ],
      "metadata": {
        "colab": {
          "base_uri": "https://localhost:8080/"
        },
        "id": "6D2Qp8j0mczN",
        "outputId": "7fa4f48d-0891-487b-9524-075789207a2b"
      },
      "execution_count": 25,
      "outputs": [
        {
          "output_type": "stream",
          "name": "stdout",
          "text": [
            "[[17.2122047  43.43400391  1.        ]\n",
            " [40.38436405 46.95809099  1.        ]\n",
            " [36.277784   10.98211418  1.        ]\n",
            " ...\n",
            " [36.31957807 97.48875995  1.        ]\n",
            " [41.06449046 21.38772286  1.        ]\n",
            " [71.47627058 47.21003944  1.        ]]\n"
          ]
        }
      ]
    },
    {
      "cell_type": "code",
      "source": [
        "# Run Optimization\n",
        "\n"
      ],
      "metadata": {
        "id": "ABm_5YOMrRgC"
      },
      "execution_count": null,
      "outputs": []
    },
    {
      "cell_type": "code",
      "source": [
        "theta"
      ],
      "metadata": {
        "colab": {
          "base_uri": "https://localhost:8080/"
        },
        "id": "pjmrIjhltn83",
        "outputId": "4d6b31be-4d38-4e3e-c6b2-b68c12f34b19"
      },
      "execution_count": null,
      "outputs": [
        {
          "output_type": "execute_result",
          "data": {
            "text/plain": [
              "array([ 0.01669357,  0.04264456, -2.73184226])"
            ]
          },
          "metadata": {},
          "execution_count": 655
        }
      ]
    },
    {
      "cell_type": "code",
      "source": [
        "# Predict and Evaluate\n",
        "\n",
        "\n",
        "\n",
        "\n",
        "\n"
      ],
      "metadata": {
        "colab": {
          "base_uri": "https://localhost:8080/"
        },
        "id": "J5lir5bOrHbU",
        "outputId": "642b867a-c652-4dc3-ea3a-d4015d7bbee1"
      },
      "execution_count": null,
      "outputs": [
        {
          "output_type": "stream",
          "name": "stdout",
          "text": [
            "The model predicted 346 out of 400 predictions correctly\n",
            "The Accuracy is 0.865 (86.5%)\n"
          ]
        }
      ]
    },
    {
      "cell_type": "code",
      "source": [
        "plt.plot(X[correct_mask][:, 0], X[correct_mask][:, 1], 'go', label='Predicted correctly')\n",
        "plt.plot(X[~correct_mask][:, 0], X[~correct_mask][:, 1], 'ro', label='Predicted in-correctly')\n",
        "\n",
        "plt.legend()\n",
        "plt.show()"
      ],
      "metadata": {
        "colab": {
          "base_uri": "https://localhost:8080/",
          "height": 430
        },
        "id": "JjCBoT1Yy_Pq",
        "outputId": "f8aa31e2-20c9-42ae-e7da-6d40a21e60fa"
      },
      "execution_count": null,
      "outputs": [
        {
          "output_type": "display_data",
          "data": {
            "text/plain": [
              "<Figure size 640x480 with 1 Axes>"
            ],
            "image/png": "[encoded data removed]"
          },
          "metadata": {}
        }
      ]
    },
    {
      "cell_type": "markdown",
      "source": [
        "Before we move on, let's also take a look at confusion matrix\n",
        "\n",
        "confusion matrix shows us the following:\n",
        "\n",
        "```\n",
        "TP FP\n",
        "FN TN\n",
        "```\n",
        "\n",
        "i.e\n",
        "\n",
        "- True Positive: How many actual labels were positive and were predicted positive too\n",
        "- False Positive: How many actual labels were negative but were predicted positive\n",
        "- False Negative: How many actual labels were positive but were predicted negative\n",
        "- True Negative: How many actual labels were negative and were predicted negative"
      ],
      "metadata": {
        "id": "RwXZL9jFjG7M"
      }
    },
    {
      "cell_type": "code",
      "source": [
        "# Confusion matrix\n",
        "\n"
      ],
      "metadata": {
        "colab": {
          "base_uri": "https://localhost:8080/"
        },
        "id": "jQGK80gxjNt7",
        "outputId": "70d7391d-1433-4678-b7d9-58d00032788c"
      },
      "execution_count": null,
      "outputs": [
        {
          "output_type": "execute_result",
          "data": {
            "text/plain": [
              "array([[169,  40],\n",
              "       [ 14, 177]])"
            ]
          },
          "metadata": {},
          "execution_count": 658
        }
      ]
    },
    {
      "cell_type": "markdown",
      "source": [
        "## Sklearn implementation\n",
        "\n",
        "Also, let's try it on a famous dataset\n",
        "\n",
        "We'll work with **Iris** dataset.\n",
        "\n",
        "### About Iris\n",
        "The dataset is about classfying flowers based on length of their parts.\n",
        "There are more than 3 classes in it but we'll just pick a class and predict wether a flower IS that class or ISN'T\n",
        "\n",
        "### train test split\n",
        "We'll also seperate the test data out of training data, a common practice in when training models to see their performance"
      ],
      "metadata": {
        "id": "6Qn31b6zymHB"
      }
    },
    {
      "cell_type": "code",
      "source": [
        "# let's load iris and have a look at it\n",
        "# New Data.\n",
        "iris_data = load_iris()  # returns a dict\n",
        "print(iris_data.keys(), '\\n')\n",
        "\n",
        "print('given features:', iris_data['feature_names'])\n",
        "print('flower names (class names):', iris_data['target_names'])"
      ],
      "metadata": {
        "colab": {
          "base_uri": "https://localhost:8080/"
        },
        "id": "NADaK7QKxr5m",
        "outputId": "035ede2a-088c-4e6e-a239-d1d33ae056b5"
      },
      "execution_count": null,
      "outputs": [
        {
          "output_type": "stream",
          "name": "stdout",
          "text": [
            "dict_keys(['data', 'target', 'frame', 'target_names', 'DESCR', 'feature_names', 'filename', 'data_module']) \n",
            "\n",
            "given features: ['sepal length (cm)', 'sepal width (cm)', 'petal length (cm)', 'petal width (cm)']\n",
            "flower names (class names): ['setosa' 'versicolor' 'virginica']\n"
          ]
        }
      ]
    },
    {
      "cell_type": "code",
      "source": [
        "# Those are the given details. We're  concerned about 'data' (containing features of flowers) and target (containing classes)\n",
        "# SPlit X and y, then shuffle.\n"
      ],
      "metadata": {
        "id": "OnPX7FuB1eMN"
      },
      "execution_count": null,
      "outputs": []
    },
    {
      "cell_type": "code",
      "source": [
        "y"
      ],
      "metadata": {
        "colab": {
          "base_uri": "https://localhost:8080/"
        },
        "id": "ZA0TCZxV5TFL",
        "outputId": "1bc9a592-4daf-4121-db9e-d72749552121"
      },
      "execution_count": null,
      "outputs": [
        {
          "output_type": "execute_result",
          "data": {
            "text/plain": [
              "array([0, 0, 0, 2, 0, 0, 1, 2, 0, 0, 1, 0, 0, 2, 0, 0, 1, 1, 2, 2, 1, 1,\n",
              "       0, 1, 2, 1, 2, 0, 1, 1, 0, 1, 0, 0, 1, 2, 1, 0, 1, 2, 2, 0, 0, 1,\n",
              "       2, 2, 1, 0, 2, 2, 2, 2, 1, 0, 1, 0, 1, 1, 0, 0, 2, 2, 2, 1, 1, 0,\n",
              "       0, 2, 1, 2, 2, 0, 0, 2, 2, 0, 1, 1, 0, 1, 1, 0, 1, 1, 1, 1, 1, 1,\n",
              "       0, 1, 2, 1, 0, 2, 0, 2, 0, 2, 0, 2, 2, 0, 1, 1, 0, 1, 1, 1, 2, 2,\n",
              "       2, 2, 2, 0, 1, 2, 0, 2, 2, 2, 0, 1, 1, 0, 2, 2, 2, 1, 0, 0, 2, 0,\n",
              "       1, 0, 0, 0, 2, 2, 0, 2, 2, 1, 1, 2, 1, 0, 1, 2, 2, 1])"
            ]
          },
          "metadata": {},
          "execution_count": 661
        }
      ]
    },
    {
      "cell_type": "code",
      "source": [
        "print(X.shape)\n",
        "print(y.shape)\n",
        "\n",
        "print(np.unique(y))"
      ],
      "metadata": {
        "colab": {
          "base_uri": "https://localhost:8080/"
        },
        "id": "oOBF0SsG23aL",
        "outputId": "e307e930-2807-4ea7-fd02-6270c738768e"
      },
      "execution_count": null,
      "outputs": [
        {
          "output_type": "stream",
          "name": "stdout",
          "text": [
            "(150, 4)\n",
            "(150,)\n",
            "[0 1 2]\n"
          ]
        }
      ]
    },
    {
      "cell_type": "code",
      "source": [
        "# The next step after getting your hands on a dataset might normally be EDA, but we'll skip that.\n",
        "# we'll make a logistic regression model for class '0' (named setosa). The model returns 1 for flower IS setosa and 0 for flower is NOT setosa\n",
        "\n",
        "y[y==0]  = -1  # placeholder value\n",
        "y[y>0]   =  0\n",
        "y[y==-1] =  1  # Setosa labels are now 1 in 'y' and other flower's are 0"
      ],
      "metadata": {
        "id": "wkN_5zsp3BL7"
      },
      "execution_count": null,
      "outputs": []
    },
    {
      "cell_type": "code",
      "source": [
        "y  # 0 is replaced with 1 and non-0 are now 0"
      ],
      "metadata": {
        "colab": {
          "base_uri": "https://localhost:8080/"
        },
        "id": "ao3NhAzN5Ucm",
        "outputId": "ced0e7aa-e587-43a1-fd1d-31d7c7e89eaf"
      },
      "execution_count": null,
      "outputs": [
        {
          "output_type": "execute_result",
          "data": {
            "text/plain": [
              "array([1, 1, 1, 0, 1, 1, 0, 0, 1, 1, 0, 1, 1, 0, 1, 1, 0, 0, 0, 0, 0, 0,\n",
              "       1, 0, 0, 0, 0, 1, 0, 0, 1, 0, 1, 1, 0, 0, 0, 1, 0, 0, 0, 1, 1, 0,\n",
              "       0, 0, 0, 1, 0, 0, 0, 0, 0, 1, 0, 1, 0, 0, 1, 1, 0, 0, 0, 0, 0, 1,\n",
              "       1, 0, 0, 0, 0, 1, 1, 0, 0, 1, 0, 0, 1, 0, 0, 1, 0, 0, 0, 0, 0, 0,\n",
              "       1, 0, 0, 0, 1, 0, 1, 0, 1, 0, 1, 0, 0, 1, 0, 0, 1, 0, 0, 0, 0, 0,\n",
              "       0, 0, 0, 1, 0, 0, 1, 0, 0, 0, 1, 0, 0, 1, 0, 0, 0, 0, 1, 1, 0, 1,\n",
              "       0, 1, 1, 1, 0, 0, 1, 0, 0, 0, 0, 0, 0, 1, 0, 0, 0, 0])"
            ]
          },
          "metadata": {},
          "execution_count": 664
        }
      ]
    },
    {
      "cell_type": "markdown",
      "source": [
        "Explanation of train_test_split\n",
        "\n",
        "The function is used to seperate out train and test data so we can train on different data and evaluate on different data.\n",
        "\n",
        "- Stratify: the shuffle will be made in such a way that the column specified in stratify will have equal distribution of different values in train and test splits.\n",
        "In our case, 1/3 of total data is 1 and 2/3 of data is 0. Stratifying by y means that this will be the case for y_train and y_test as well.\n",
        "- random_state: normally, split are made randomly but specifying a state means this cell will make the same split everytime.\n",
        "- train_size: how much of the data (out of 1) is kept as training. 0.7 means 70% data goes to training and 30% goes to testing"
      ],
      "metadata": {
        "id": "yiaDVFhC-Ukc"
      }
    },
    {
      "cell_type": "code",
      "source": [],
      "metadata": {
        "id": "G8v1fhNH-DcZ"
      },
      "execution_count": null,
      "outputs": []
    },
    {
      "cell_type": "code",
      "source": [],
      "metadata": {
        "colab": {
          "base_uri": "https://localhost:8080/",
          "height": 74
        },
        "id": "5yzIzmqs5UtV",
        "outputId": "cc1b6433-c9ef-4f0b-b841-eb310c48f12b"
      },
      "execution_count": null,
      "outputs": [
        {
          "output_type": "execute_result",
          "data": {
            "text/plain": [
              "LogisticRegression()"
            ],
            "text/html": [
              "<style>#sk-container-id-10 {color: black;background-color: white;}#sk-container-id-10 pre{padding: 0;}#sk-container-id-10 div.sk-toggleable {background-color: white;}#sk-container-id-10 label.sk-toggleable__label {cursor: pointer;display: block;width: 100%;margin-bottom: 0;padding: 0.3em;box-sizing: border-box;text-align: center;}#sk-container-id-10 label.sk-toggleable__label-arrow:before {content: \"▸\";float: left;margin-right: 0.25em;color: #696969;}#sk-container-id-10 label.sk-toggleable__label-arrow:hover:before {color: black;}#sk-container-id-10 div.sk-estimator:hover label.sk-toggleable__label-arrow:before {color: black;}#sk-container-id-10 div.sk-toggleable__content {max-height: 0;max-width: 0;overflow: hidden;text-align: left;background-color: #f0f8ff;}#sk-container-id-10 div.sk-toggleable__content pre {margin: 0.2em;color: black;border-radius: 0.25em;background-color: #f0f8ff;}#sk-container-id-10 input.sk-toggleable__control:checked~div.sk-toggleable__content {max-height: 200px;max-width: 100%;overflow: auto;}#sk-container-id-10 input.sk-toggleable__control:checked~label.sk-toggleable__label-arrow:before {content: \"▾\";}#sk-container-id-10 div.sk-estimator input.sk-toggleable__control:checked~label.sk-toggleable__label {background-color: #d4ebff;}#sk-container-id-10 div.sk-label input.sk-toggleable__control:checked~label.sk-toggleable__label {background-color: #d4ebff;}#sk-container-id-10 input.sk-hidden--visually {border: 0;clip: rect(1px 1px 1px 1px);clip: rect(1px, 1px, 1px, 1px);height: 1px;margin: -1px;overflow: hidden;padding: 0;position: absolute;width: 1px;}#sk-container-id-10 div.sk-estimator {font-family: monospace;background-color: #f0f8ff;border: 1px dotted black;border-radius: 0.25em;box-sizing: border-box;margin-bottom: 0.5em;}#sk-container-id-10 div.sk-estimator:hover {background-color: #d4ebff;}#sk-container-id-10 div.sk-parallel-item::after {content: \"\";width: 100%;border-bottom: 1px solid gray;flex-grow: 1;}#sk-container-id-10 div.sk-label:hover label.sk-toggleable__label {background-color: #d4ebff;}#sk-container-id-10 div.sk-serial::before {content: \"\";position: absolute;border-left: 1px solid gray;box-sizing: border-box;top: 0;bottom: 0;left: 50%;z-index: 0;}#sk-container-id-10 div.sk-serial {display: flex;flex-direction: column;align-items: center;background-color: white;padding-right: 0.2em;padding-left: 0.2em;position: relative;}#sk-container-id-10 div.sk-item {position: relative;z-index: 1;}#sk-container-id-10 div.sk-parallel {display: flex;align-items: stretch;justify-content: center;background-color: white;position: relative;}#sk-container-id-10 div.sk-item::before, #sk-container-id-10 div.sk-parallel-item::before {content: \"\";position: absolute;border-left: 1px solid gray;box-sizing: border-box;top: 0;bottom: 0;left: 50%;z-index: -1;}#sk-container-id-10 div.sk-parallel-item {display: flex;flex-direction: column;z-index: 1;position: relative;background-color: white;}#sk-container-id-10 div.sk-parallel-item:first-child::after {align-self: flex-end;width: 50%;}#sk-container-id-10 div.sk-parallel-item:last-child::after {align-self: flex-start;width: 50%;}#sk-container-id-10 div.sk-parallel-item:only-child::after {width: 0;}#sk-container-id-10 div.sk-dashed-wrapped {border: 1px dashed gray;margin: 0 0.4em 0.5em 0.4em;box-sizing: border-box;padding-bottom: 0.4em;background-color: white;}#sk-container-id-10 div.sk-label label {font-family: monospace;font-weight: bold;display: inline-block;line-height: 1.2em;}#sk-container-id-10 div.sk-label-container {text-align: center;}#sk-container-id-10 div.sk-container {/* jupyter's `normalize.less` sets `[hidden] { display: none; }` but bootstrap.min.css set `[hidden] { display: none !important; }` so we also need the `!important` here to be able to override the default hidden behavior on the sphinx rendered scikit-learn.org. See: https://github.com/scikit-learn/scikit-learn/issues/21755 */display: inline-block !important;position: relative;}#sk-container-id-10 div.sk-text-repr-fallback {display: none;}</style><div id=\"sk-container-id-10\" class=\"sk-top-container\"><div class=\"sk-text-repr-fallback\"><pre>LogisticRegression()</pre><b>In a Jupyter environment, please rerun this cell to show the HTML representation or trust the notebook. <br />On GitHub, the HTML representation is unable to render, please try loading this page with nbviewer.org.</b></div><div class=\"sk-container\" hidden><div class=\"sk-item\"><div class=\"sk-estimator sk-toggleable\"><input class=\"sk-toggleable__control sk-hidden--visually\" id=\"sk-estimator-id-10\" type=\"checkbox\" checked><label for=\"sk-estimator-id-10\" class=\"sk-toggleable__label sk-toggleable__label-arrow\">LogisticRegression</label><div class=\"sk-toggleable__content\"><pre>LogisticRegression()</pre></div></div></div></div></div>"
            ]
          },
          "metadata": {},
          "execution_count": 666
        }
      ]
    },
    {
      "cell_type": "code",
      "source": [],
      "metadata": {
        "id": "2dBML2Fh5tVx"
      },
      "execution_count": null,
      "outputs": []
    },
    {
      "cell_type": "code",
      "source": [],
      "metadata": {
        "colab": {
          "base_uri": "https://localhost:8080/"
        },
        "id": "nB_91KQB50WQ",
        "outputId": "1354c9ef-6d64-4e85-db26-cff8a42044d5"
      },
      "execution_count": null,
      "outputs": [
        {
          "output_type": "stream",
          "name": "stdout",
          "text": [
            "The model predicted 45 out of 45 predictions\n",
            "The Accuracy is 1.0 (100.0%)\n"
          ]
        }
      ]
    },
    {
      "cell_type": "code",
      "source": [],
      "metadata": {
        "colab": {
          "base_uri": "https://localhost:8080/"
        },
        "id": "DWWM9dxDLvI4",
        "outputId": "a32d2c16-30d0-4ac1-cca8-c8c9fb53df55"
      },
      "execution_count": null,
      "outputs": [
        {
          "output_type": "execute_result",
          "data": {
            "text/plain": [
              "array([[30,  0],\n",
              "       [ 0, 15]])"
            ]
          },
          "metadata": {},
          "execution_count": 669
        }
      ]
    },
    {
      "cell_type": "markdown",
      "source": [
        "END."
      ],
      "metadata": {
        "id": "Yh9B854fWTle"
      }
    },
    {
      "cell_type": "code",
      "source": [],
      "metadata": {
        "id": "DZndsJsHY66t"
      },
      "execution_count": null,
      "outputs": []
    }
  ]
}