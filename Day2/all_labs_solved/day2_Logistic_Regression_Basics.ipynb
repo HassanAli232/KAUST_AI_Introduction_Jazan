{
  "nbformat": 4,
  "nbformat_minor": 0,
  "metadata": {
    "colab": {
      "provenance": []
    },
    "kernelspec": {
      "name": "python3",
      "display_name": "Python 3"
    },
    "language_info": {
      "name": "python"
    }
  },
  "cells": [
    {
      "cell_type": "code",
      "execution_count": 7,
      "metadata": {
        "id": "VrXxnldCUmV4"
      },
      "outputs": [],
      "source": [
        "from IPython.display import clear_output"
      ]
    },
    {
      "cell_type": "code",
      "source": [
        "# Download the required libraries (needed when running outside colab where the environment doesn't come pre-loaded with libraries)\n",
        "\n",
        "%pip install numpy\n",
        "%pip install scikit-learn\n",
        "%pip install matplotlib\n",
        "%pip install tqdm\n",
        "\n",
        "clear_output()"
      ],
      "metadata": {
        "id": "NjkKB8f-UvD9"
      },
      "execution_count": 8,
      "outputs": []
    },
    {
      "cell_type": "code",
      "source": [
        "import math\n",
        "from copy import deepcopy\n",
        "\n",
        "import numpy as np\n",
        "import matplotlib.pyplot as plt\n",
        "\n",
        "from tqdm import tqdm\n",
        "\n",
        "from sklearn.linear_model import LogisticRegression\n",
        "from sklearn.datasets import load_iris\n",
        "from sklearn.model_selection import train_test_split\n",
        "from sklearn.metrics import confusion_matrix"
      ],
      "metadata": {
        "id": "Y3p224jCZANd"
      },
      "execution_count": 9,
      "outputs": []
    },
    {
      "cell_type": "code",
      "source": [
        "# Let's build a custom dataset for our logistic regression model\n",
        "\n",
        "def generateData():\n",
        "    n_points = 400  # num of points in generated data\n",
        "    max_coordinate_value = 100  # max possible value taken by the x or y coordinate of a point\n",
        "\n",
        "    points = np.random.rand(n_points, 2) * max_coordinate_value\n",
        "\n",
        "    l = np.sin(2*math.pi*(points[:, 0]/max_coordinate_value))\n",
        "    l = (l*0.3*max_coordinate_value)+(max_coordinate_value/2)\n",
        "    mask = points[:, 1] > l\n",
        "\n",
        "    labels = np.zeros(n_points)\n",
        "    labels[mask] = 1\n",
        "\n",
        "    divider = (30 * np.sin(2*math.pi*np.linspace(0, max_coordinate_value, max_coordinate_value)/max_coordinate_value))\n",
        "    divider = max_coordinate_value/2 + divider\n",
        "\n",
        "    plt.plot(points[mask][:, 0], points[mask][:, 1], 'ro', label='1')\n",
        "    plt.plot(points[~mask][:, 0], points[~mask][:, 1], 'bo', label='0')\n",
        "    plt.plot(divider)  # visualization only\n",
        "\n",
        "    plt.legend()\n",
        "    plt.show()\n",
        "\n",
        "    return points, labels"
      ],
      "metadata": {
        "id": "ljO9jk91dTK7"
      },
      "execution_count": 10,
      "outputs": []
    },
    {
      "cell_type": "markdown",
      "source": [
        "#Contents:\n",
        "\n",
        "1. Scratch implementation of Logistic Regression using numpy on custom data\n",
        "2. Sklearn implementation of Logistic Regression on IRIS dataset\n",
        "\n",
        "\n",
        "You need to know:\n",
        "\n",
        "1. **numpy** (for impelementation)\n",
        "2. a little bit of **matplotlib** (for visualization)\n",
        "\n",
        "\n",
        "Good to have knowledge of:\n",
        "\n",
        "1. Sklearn (details of the functions is given anyways)"
      ],
      "metadata": {
        "id": "NuqXa4fvYBE7"
      }
    },
    {
      "cell_type": "markdown",
      "source": [
        "## Implementing Logistic Regression from Scratch"
      ],
      "metadata": {
        "id": "ztlkgcooZj9h"
      }
    },
    {
      "cell_type": "markdown",
      "source": [
        "Before we get to coding, Here's are the equations for logistic regression cost function (cross-entropy) and sigmoid function\n",
        "\n",
        "Cost function:\n",
        "\n",
        "$$\n",
        "Cross-Entropy-Loss = -\\left( y \\log(\\hat{y}) + (1 - y) \\log(1 - \\hat{y}) \\right)\n",
        "$$\n",
        "\n",
        "Sigmoid:\n",
        "\n",
        "$$\n",
        "\\sigma(z) = \\frac{1}{1 + e^{-z}}\n",
        "$$"
      ],
      "metadata": {
        "id": "1h7gzReVbKZU"
      }
    },
    {
      "cell_type": "code",
      "source": [
        "def sigmoid(z):\n",
        "    \"\"\"\n",
        "    Apply sigmoid function. Sigmoid brings the output in 0 to 1 range\n",
        "    \"\"\"\n",
        "    return 1 / (1 + np.exp(-z))\n",
        "\n",
        "\n",
        "def log_reg_cost(y, y_pred):  # cross entropy\n",
        "    \"\"\"\n",
        "    Calculates and returns the cost for logistic regression.\n",
        "\n",
        "    Function is slightly different from mentioned above because this one handles batched/vector/multiple inputs (rather than just one).\n",
        "    This function sums and takes average across the vector.\n",
        "    \"\"\"\n",
        "    epsilon = 1e-15\n",
        "    # y_pred = np.clip(y_pred, epsilon, 1 - epsilon)\n",
        "\n",
        "    # cost = -1/len(y) * np.sum(y * np.log(y_pred) + (1 - y) * np.log(1 - y_pred))\n",
        "\n",
        "    # Here is the cross entropy. -1/m * summation( yi * log(y_pred) + (1 - yi) * log(1 - y_pred))\n",
        "    # We added epsilon because when the value given to the log is 0, it will raise an error.\n",
        "    cost = -1/len(y) * np.sum(y * np.log(y_pred+epsilon) + (1 - y) * np.log(1 - y_pred + epsilon))\n",
        "    return cost\n",
        "\n",
        "\n",
        "def log_reg_gradient_descent(X, y, learning_rate, n_iters):\n",
        "    \"\"\"\n",
        "    Runs gradient descent (param optimization) for logistic regression and returns optimized weights.\n",
        "    \"\"\"\n",
        "    # Here just taking the shape of the data.\n",
        "    # m is the number of samples.\n",
        "    # n is the number of features.\n",
        "    m, n = X.shape\n",
        "\n",
        "    # Initialize the weights. You can initialize the weights to be 0s or ones or randomly.\n",
        "    # The size of theta should be the same as the number of features.\n",
        "    theta = np.zeros(n)\n",
        "\n",
        "    # we just store the losses for each iteration to plot them later.\n",
        "    losses = []\n",
        "\n",
        "    # tqdm is just used here to show a progress bar of the training\n",
        "    for _ in tqdm(range(n_iters)): # Number of iterations to repeate the process of updating the weights and improving the model.\n",
        "\n",
        "        # $1 should start calculating the model.\n",
        "\n",
        "        # Start by simple calculation same as linear regression W.T @ X\n",
        "        z = np.dot(X, theta) # we can switch between them, but without transpose. Always, know your shapes.\n",
        "        y_pred = sigmoid(z) # putting z inside a sigmoid to get logistic regression.\n",
        "\n",
        "        # $2 Compute the loss.\n",
        "        loss = log_reg_cost(y, y_pred)\n",
        "        losses.append(loss)\n",
        "\n",
        "        # $3 Compute the gradient.\n",
        "        # The gradient formula: (y_hut - y) X\n",
        "        # For many values we take the average, hence dividing by m.\n",
        "        gradient = np.dot(X.T, (y_pred - y)) / m\n",
        "\n",
        "        # $4 Update the weights using the formula w = w - learning_rate * gradient\n",
        "        theta = theta - learning_rate * gradient\n",
        "\n",
        "\n",
        "    plt.plot(losses)\n",
        "\n",
        "    # return theta (which is our model)\n",
        "    return theta"
      ],
      "metadata": {
        "id": "brsnENtgV_BP"
      },
      "execution_count": 30,
      "outputs": []
    },
    {
      "cell_type": "code",
      "source": [
        "# Just generating data.\n",
        "points, labels = generateData()"
      ],
      "metadata": {
        "id": "BMb1z_lPBSmK",
        "colab": {
          "base_uri": "https://localhost:8080/",
          "height": 430
        },
        "outputId": "3a5d0423-440c-4dba-d4fa-3c2f413bef1b"
      },
      "execution_count": 31,
      "outputs": [
        {
          "output_type": "display_data",
          "data": {
            "text/plain": [
              "<Figure size 640x480 with 1 Axes>"
            ],
            "image/png": "[encoded data removed]"
          },
          "metadata": {}
        }
      ]
    },
    {
      "cell_type": "code",
      "source": [
        "# rename to X and y.\n",
        "\n",
        "X = points\n",
        "y = labels\n",
        "\n",
        "print(f'Current X shape: {X.shape}')\n",
        "\n",
        "# Adding the bias column because we are doing it from scratch.\n",
        "# If we are using sklearn, it will add the bias column, but you should write a comment on that.\n",
        "# The bias column should be of the same size as the samples because we need to add 1 for each sample.\n",
        "intercept_col = np.ones(X.shape[0])  # a column of 1's for intercept value\n",
        "X = np.column_stack((X, intercept_col))\n",
        "\n",
        "print(f'New X shape: {X.shape}. Extra col added for intercept value')"
      ],
      "metadata": {
        "colab": {
          "base_uri": "https://localhost:8080/"
        },
        "id": "wr5MMaz3eDRd",
        "outputId": "be589434-f3d3-4789-8add-ce5f34d94598"
      },
      "execution_count": 32,
      "outputs": [
        {
          "output_type": "stream",
          "name": "stdout",
          "text": [
            "Current X shape: (400, 2)\n",
            "New X shape: (400, 3). Extra col added for intercept value\n"
          ]
        }
      ]
    },
    {
      "cell_type": "code",
      "source": [
        "# Run Optimization\n",
        "\n",
        "# You can play with the number of iterations and learning rate to try finding a better results.\n",
        "# Learning rate should be always small (0.1, 0.01, 0.001). usually 0.001.\n",
        "\n",
        "# Try making the learning rate high and the num_iters high. You will see something amazing ;)\n",
        "num_iters = 30000\n",
        "lr = 1e-3\n",
        "\n",
        "theta = log_reg_gradient_descent(X, y, lr, num_iters)"
      ],
      "metadata": {
        "colab": {
          "base_uri": "https://localhost:8080/",
          "height": 448
        },
        "id": "ABm_5YOMrRgC",
        "outputId": "a302a551-be37-4df2-a2d5-8fab560ea18d"
      },
      "execution_count": 33,
      "outputs": [
        {
          "output_type": "stream",
          "name": "stderr",
          "text": [
            "100%|██████████| 30000/30000 [00:01<00:00, 17180.50it/s]\n"
          ]
        },
        {
          "output_type": "display_data",
          "data": {
            "text/plain": [
              "<Figure size 640x480 with 1 Axes>"
            ],
            "image/png": "[encoded data removed]"
          },
          "metadata": {}
        }
      ]
    },
    {
      "cell_type": "code",
      "source": [
        "# Showing theta.\n",
        "print(theta)"
      ],
      "metadata": {
        "colab": {
          "base_uri": "https://localhost:8080/"
        },
        "id": "pjmrIjhltn83",
        "outputId": "85cdfbef-0744-42da-9a41-cbc9beab40ba"
      },
      "execution_count": 34,
      "outputs": [
        {
          "output_type": "stream",
          "name": "stdout",
          "text": [
            "[ 0.01523457  0.04170433 -2.45218638]\n"
          ]
        }
      ]
    },
    {
      "cell_type": "code",
      "source": [
        "# Predict on test data to compute evaluation metrics (accuracy, precision, recall, etc.)\n",
        "y_pred = sigmoid(np.dot(X, theta))  # output of sigmoid is in range 0-1. Our prediction.\n",
        "y_pred = np.round(y_pred)  # Let's convert the probablity to classes using round to 0 or 1\n",
        "\n",
        "# Checking the correct prediction.\n",
        "correct_mask = (y_pred == y)\n",
        "\n",
        "# Counting the correct samples.\n",
        "correct_count = correct_mask.sum()\n",
        "total_count = len(y_pred)\n",
        "\n",
        "print(f'The model predicted {correct_count} out of {total_count} predictions correctly')\n",
        "# Calculating accuracy. Review its formula.\n",
        "print(f'The Accuracy is {correct_count/total_count} ({correct_count/total_count*100}%)')"
      ],
      "metadata": {
        "colab": {
          "base_uri": "https://localhost:8080/"
        },
        "id": "J5lir5bOrHbU",
        "outputId": "026ad000-733c-4a48-a731-5cdff8bab2bd"
      },
      "execution_count": 35,
      "outputs": [
        {
          "output_type": "stream",
          "name": "stdout",
          "text": [
            "The model predicted 341 out of 400 predictions correctly\n",
            "The Accuracy is 0.8525 (85.25%)\n"
          ]
        }
      ]
    },
    {
      "cell_type": "code",
      "source": [
        "# Here we are showing the points that were predicted correctly as green circles.\n",
        "# The wrong precition is in red.\n",
        "\n",
        "plt.plot(X[correct_mask][:, 0], X[correct_mask][:, 1], 'go', label='Predicted correctly')\n",
        "plt.plot(X[~correct_mask][:, 0], X[~correct_mask][:, 1], 'ro', label='Predicted in-correctly')\n",
        "\n",
        "plt.legend()\n",
        "plt.show()"
      ],
      "metadata": {
        "colab": {
          "base_uri": "https://localhost:8080/",
          "height": 430
        },
        "id": "JjCBoT1Yy_Pq",
        "outputId": "a8cd0ed5-9f42-423c-c2e3-8d58284fb8af"
      },
      "execution_count": 36,
      "outputs": [
        {
          "output_type": "display_data",
          "data": {
            "text/plain": [
              "<Figure size 640x480 with 1 Axes>"
            ],
            "image/png": "[encoded data removed]"
          },
          "metadata": {}
        }
      ]
    },
    {
      "cell_type": "markdown",
      "source": [
        "Before we move on, let's also take a look at confusion matrix\n",
        "\n",
        "confusion matrix shows us the following:\n",
        "\n",
        "```\n",
        "TP FP\n",
        "FN TN\n",
        "```\n",
        "\n",
        "i.e\n",
        "\n",
        "- True Positive: How many actual labels were positive and were predicted positive too\n",
        "- False Positive: How many actual labels were negative but were predicted positive\n",
        "- False Negative: How many actual labels were positive but were predicted negative\n",
        "- True Negative: How many actual labels were negative and were predicted negative"
      ],
      "metadata": {
        "id": "RwXZL9jFjG7M"
      }
    },
    {
      "cell_type": "code",
      "source": [
        "# Showing the confusion matrix.\n",
        "\n",
        "matrix = confusion_matrix(y, y_pred)\n",
        "\n",
        "tp = matrix[0][0]\n",
        "fp = matrix[0][1]\n",
        "fn = matrix[1][0]\n",
        "tn = matrix[1][1]\n",
        "\n",
        "# Calculating the evaluation metrics. Review their formulas.\n",
        "precision = tp / (tp + fp)\n",
        "recall = tp / (tp + fn)\n",
        "f1_score = 2 / (1/precision + 1/recall)\n",
        "\n",
        "\n",
        "print(f'Precision: {precision}')\n",
        "print(f'Recall: {recall}')\n",
        "print(f'F1 Score: {f1_score}')"
      ],
      "metadata": {
        "colab": {
          "base_uri": "https://localhost:8080/"
        },
        "id": "jQGK80gxjNt7",
        "outputId": "7d2ed4fa-f8ef-435b-9eee-159c791f2e03"
      },
      "execution_count": 37,
      "outputs": [
        {
          "output_type": "stream",
          "name": "stdout",
          "text": [
            "Precision: 0.7513227513227513\n",
            "Recall: 0.922077922077922\n",
            "F1 Score: 0.8279883381924198\n"
          ]
        }
      ]
    },
    {
      "cell_type": "markdown",
      "source": [
        "## Sklearn implementation\n",
        "\n",
        "Also, let's try it on a famous dataset\n",
        "\n",
        "We'll work with **Iris** dataset.\n",
        "\n",
        "### About Iris\n",
        "The dataset is about classfying flowers based on length of their parts.\n",
        "There are more than 3 classes in it but we'll just pick a class and predict wether a flower IS that class or ISN'T\n",
        "\n",
        "### train test split\n",
        "We'll also seperate the test data out of training data, a common practice in when training models to see their performance"
      ],
      "metadata": {
        "id": "6Qn31b6zymHB"
      }
    },
    {
      "cell_type": "code",
      "source": [
        "# Loading the data. Mostly given!\n",
        "\n",
        "iris_data = load_iris()  # returns a dict\n",
        "print(iris_data.keys(), '\\n')\n",
        "\n",
        "# Showing the features names.\n",
        "print('given features:', iris_data['feature_names'])\n",
        "\n",
        "# Showing the number of classes.\n",
        "print('flower names (class names):', iris_data['target_names'])"
      ],
      "metadata": {
        "colab": {
          "base_uri": "https://localhost:8080/"
        },
        "id": "NADaK7QKxr5m",
        "outputId": "f2dc8835-599c-4b77-99a8-b0aff9b95dbc"
      },
      "execution_count": 38,
      "outputs": [
        {
          "output_type": "stream",
          "name": "stdout",
          "text": [
            "dict_keys(['data', 'target', 'frame', 'target_names', 'DESCR', 'feature_names', 'filename', 'data_module']) \n",
            "\n",
            "given features: ['sepal length (cm)', 'sepal width (cm)', 'petal length (cm)', 'petal width (cm)']\n",
            "flower names (class names): ['setosa' 'versicolor' 'virginica']\n"
          ]
        }
      ]
    },
    {
      "cell_type": "code",
      "source": [
        "# Those are the given details. We're  concerned about 'data' (containing features of flowers) and target (containing classes)\n",
        "# takes X and y.\n",
        "X = np.array(iris_data['data'])\n",
        "y = np.array(iris_data['target'])\n",
        "\n",
        "\n",
        "# Let's shuffle the data. Make sure to shuffle X and y in the same order.\n",
        "\n",
        "# Generating indices for the whole data (number of samples.)\n",
        "shuffled_idxs = list(range(0, len(y)))\n",
        "# Shuffling the indices.\n",
        "np.random.shuffle(shuffled_idxs)\n",
        "\n",
        "# Shuffle the data using the indices\n",
        "X = X[shuffled_idxs]\n",
        "y = y[shuffled_idxs]"
      ],
      "metadata": {
        "id": "OnPX7FuB1eMN"
      },
      "execution_count": 39,
      "outputs": []
    },
    {
      "cell_type": "code",
      "source": [
        "y"
      ],
      "metadata": {
        "colab": {
          "base_uri": "https://localhost:8080/"
        },
        "id": "ZA0TCZxV5TFL",
        "outputId": "60b7352f-9606-43cf-a127-218e38eecc10"
      },
      "execution_count": 40,
      "outputs": [
        {
          "output_type": "execute_result",
          "data": {
            "text/plain": [
              "array([0, 1, 2, 0, 0, 1, 0, 2, 1, 1, 0, 2, 2, 0, 1, 0, 1, 1, 0, 2, 0, 0,\n",
              "       2, 2, 0, 0, 1, 0, 0, 0, 2, 1, 0, 0, 0, 2, 2, 2, 1, 2, 1, 2, 2, 1,\n",
              "       2, 2, 2, 1, 1, 0, 1, 1, 1, 0, 1, 2, 0, 1, 1, 1, 2, 2, 0, 1, 0, 1,\n",
              "       0, 0, 1, 0, 1, 0, 0, 0, 0, 2, 0, 2, 2, 0, 2, 2, 1, 1, 2, 1, 1, 2,\n",
              "       2, 2, 2, 0, 2, 2, 2, 2, 1, 2, 2, 1, 1, 0, 1, 1, 0, 1, 1, 0, 2, 0,\n",
              "       1, 1, 0, 2, 1, 2, 1, 2, 0, 1, 1, 1, 0, 0, 0, 1, 0, 2, 2, 1, 0, 0,\n",
              "       1, 2, 1, 1, 2, 1, 2, 2, 0, 2, 2, 2, 2, 0, 0, 1, 0, 0])"
            ]
          },
          "metadata": {},
          "execution_count": 40
        }
      ]
    },
    {
      "cell_type": "code",
      "source": [
        "print(X.shape)\n",
        "print(y.shape)\n",
        "\n",
        "# Shows the unique values (classes).\n",
        "print(np.unique(y))\n",
        "print(\"Number of Classes:\", len(np.unique(y)))"
      ],
      "metadata": {
        "colab": {
          "base_uri": "https://localhost:8080/"
        },
        "id": "oOBF0SsG23aL",
        "outputId": "deba42d2-8519-4f1f-cd71-dbe2cc1f2107"
      },
      "execution_count": 41,
      "outputs": [
        {
          "output_type": "stream",
          "name": "stdout",
          "text": [
            "(150, 4)\n",
            "(150,)\n",
            "[0 1 2]\n",
            "Number of Classes: 3\n"
          ]
        }
      ]
    },
    {
      "cell_type": "code",
      "source": [
        "# The next step after getting your hands on a dataset might normally be EDA, but we'll skip that.\n",
        "# we'll make a logistic regression model for class '0' (named setosa). The model returns 1 for flower IS setosa and 0 for flower is NOT setosa\n",
        "\n",
        "## Converting multiclass to binary class.\n",
        "\n",
        "# Change class 0 to be class -1 temporarly.\n",
        "y[y==0]  = -1  # placeholder value\n",
        "# Change any class that its values is greater than 0 to be 0.\n",
        "y[y>0]   =  0\n",
        "\n",
        "# Change the class -1 (originally was 0) to be class 1.\n",
        "y[y==-1] =  1  # Setosa labels are now 1 in 'y' and other flower's are 0"
      ],
      "metadata": {
        "id": "wkN_5zsp3BL7"
      },
      "execution_count": 42,
      "outputs": []
    },
    {
      "cell_type": "code",
      "source": [
        "y  # 0 is replaced with 1 and non-0 are now 0"
      ],
      "metadata": {
        "colab": {
          "base_uri": "https://localhost:8080/"
        },
        "id": "ao3NhAzN5Ucm",
        "outputId": "920fe039-36dc-4ab2-e41f-e3d21a099b89"
      },
      "execution_count": 43,
      "outputs": [
        {
          "output_type": "execute_result",
          "data": {
            "text/plain": [
              "array([1, 0, 0, 1, 1, 0, 1, 0, 0, 0, 1, 0, 0, 1, 0, 1, 0, 0, 1, 0, 1, 1,\n",
              "       0, 0, 1, 1, 0, 1, 1, 1, 0, 0, 1, 1, 1, 0, 0, 0, 0, 0, 0, 0, 0, 0,\n",
              "       0, 0, 0, 0, 0, 1, 0, 0, 0, 1, 0, 0, 1, 0, 0, 0, 0, 0, 1, 0, 1, 0,\n",
              "       1, 1, 0, 1, 0, 1, 1, 1, 1, 0, 1, 0, 0, 1, 0, 0, 0, 0, 0, 0, 0, 0,\n",
              "       0, 0, 0, 1, 0, 0, 0, 0, 0, 0, 0, 0, 0, 1, 0, 0, 1, 0, 0, 1, 0, 1,\n",
              "       0, 0, 1, 0, 0, 0, 0, 0, 1, 0, 0, 0, 1, 1, 1, 0, 1, 0, 0, 0, 1, 1,\n",
              "       0, 0, 0, 0, 0, 0, 0, 0, 1, 0, 0, 0, 0, 1, 1, 0, 1, 1])"
            ]
          },
          "metadata": {},
          "execution_count": 43
        }
      ]
    },
    {
      "cell_type": "markdown",
      "source": [
        "Explanation of train_test_split\n",
        "\n",
        "The function is used to seperate out train and test data so we can train on different data and evaluate on different data.\n",
        "\n",
        "- Stratify: the shuffle will be made in such a way that the column specified in stratify will have equal distribution of different values in train and test splits.\n",
        "In our case, 1/3 of total data is 1 and 2/3 of data is 0. Stratifying by y means that this will be the case for y_train and y_test as well.\n",
        "- random_state: normally, split are made randomly but specifying a state means this cell will make the same split everytime.\n",
        "- train_size: how much of the data (out of 1) is kept as training. 0.7 means 70% data goes to training and 30% goes to testing"
      ],
      "metadata": {
        "id": "yiaDVFhC-Ukc"
      }
    },
    {
      "cell_type": "code",
      "source": [
        "# Splitting the data using sklearn function. It shuffles before splitting.\n",
        "X_train, X_test, y_train, y_test = train_test_split(X, y, test_size=0.2, random_state=123)"
      ],
      "metadata": {
        "id": "G8v1fhNH-DcZ"
      },
      "execution_count": 44,
      "outputs": []
    },
    {
      "cell_type": "code",
      "source": [
        "# Initialize the Model.\n",
        "model = LogisticRegression()\n",
        "# train\n",
        "model.fit(X_train, y_train)  # we train on training data only"
      ],
      "metadata": {
        "colab": {
          "base_uri": "https://localhost:8080/",
          "height": 80
        },
        "id": "5yzIzmqs5UtV",
        "outputId": "0d7bc2ce-a1fc-4526-81db-c83dcb2c1fc9"
      },
      "execution_count": 45,
      "outputs": [
        {
          "output_type": "execute_result",
          "data": {
            "text/plain": [
              "LogisticRegression()"
            ],
            "text/html": [
              "<style>#sk-container-id-2 {\n",
              "  /* Definition of color scheme common for light and dark mode */\n",
              "  --sklearn-color-text: #000;\n",
              "  --sklearn-color-text-muted: #666;\n",
              "  --sklearn-color-line: gray;\n",
              "  /* Definition of color scheme for unfitted estimators */\n",
              "  --sklearn-color-unfitted-level-0: #fff5e6;\n",
              "  --sklearn-color-unfitted-level-1: #f6e4d2;\n",
              "  --sklearn-color-unfitted-level-2: #ffe0b3;\n",
              "  --sklearn-color-unfitted-level-3: chocolate;\n",
              "  /* Definition of color scheme for fitted estimators */\n",
              "  --sklearn-color-fitted-level-0: #f0f8ff;\n",
              "  --sklearn-color-fitted-level-1: #d4ebff;\n",
              "  --sklearn-color-fitted-level-2: #b3dbfd;\n",
              "  --sklearn-color-fitted-level-3: cornflowerblue;\n",
              "\n",
              "  /* Specific color for light theme */\n",
              "  --sklearn-color-text-on-default-background: var(--sg-text-color, var(--theme-code-foreground, var(--jp-content-font-color1, black)));\n",
              "  --sklearn-color-background: var(--sg-background-color, var(--theme-background, var(--jp-layout-color0, white)));\n",
              "  --sklearn-color-border-box: var(--sg-text-color, var(--theme-code-foreground, var(--jp-content-font-color1, black)));\n",
              "  --sklearn-color-icon: #696969;\n",
              "\n",
              "  @media (prefers-color-scheme: dark) {\n",
              "    /* Redefinition of color scheme for dark theme */\n",
              "    --sklearn-color-text-on-default-background: var(--sg-text-color, var(--theme-code-foreground, var(--jp-content-font-color1, white)));\n",
              "    --sklearn-color-background: var(--sg-background-color, var(--theme-background, var(--jp-layout-color0, #111)));\n",
              "    --sklearn-color-border-box: var(--sg-text-color, var(--theme-code-foreground, var(--jp-content-font-color1, white)));\n",
              "    --sklearn-color-icon: #878787;\n",
              "  }\n",
              "}\n",
              "\n",
              "#sk-container-id-2 {\n",
              "  color: var(--sklearn-color-text);\n",
              "}\n",
              "\n",
              "#sk-container-id-2 pre {\n",
              "  padding: 0;\n",
              "}\n",
              "\n",
              "#sk-container-id-2 input.sk-hidden--visually {\n",
              "  border: 0;\n",
              "  clip: rect(1px 1px 1px 1px);\n",
              "  clip: rect(1px, 1px, 1px, 1px);\n",
              "  height: 1px;\n",
              "  margin: -1px;\n",
              "  overflow: hidden;\n",
              "  padding: 0;\n",
              "  position: absolute;\n",
              "  width: 1px;\n",
              "}\n",
              "\n",
              "#sk-container-id-2 div.sk-dashed-wrapped {\n",
              "  border: 1px dashed var(--sklearn-color-line);\n",
              "  margin: 0 0.4em 0.5em 0.4em;\n",
              "  box-sizing: border-box;\n",
              "  padding-bottom: 0.4em;\n",
              "  background-color: var(--sklearn-color-background);\n",
              "}\n",
              "\n",
              "#sk-container-id-2 div.sk-container {\n",
              "  /* jupyter's `normalize.less` sets `[hidden] { display: none; }`\n",
              "     but bootstrap.min.css set `[hidden] { display: none !important; }`\n",
              "     so we also need the `!important` here to be able to override the\n",
              "     default hidden behavior on the sphinx rendered scikit-learn.org.\n",
              "     See: https://github.com/scikit-learn/scikit-learn/issues/21755 */\n",
              "  display: inline-block !important;\n",
              "  position: relative;\n",
              "}\n",
              "\n",
              "#sk-container-id-2 div.sk-text-repr-fallback {\n",
              "  display: none;\n",
              "}\n",
              "\n",
              "div.sk-parallel-item,\n",
              "div.sk-serial,\n",
              "div.sk-item {\n",
              "  /* draw centered vertical line to link estimators */\n",
              "  background-image: linear-gradient(var(--sklearn-color-text-on-default-background), var(--sklearn-color-text-on-default-background));\n",
              "  background-size: 2px 100%;\n",
              "  background-repeat: no-repeat;\n",
              "  background-position: center center;\n",
              "}\n",
              "\n",
              "/* Parallel-specific style estimator block */\n",
              "\n",
              "#sk-container-id-2 div.sk-parallel-item::after {\n",
              "  content: \"\";\n",
              "  width: 100%;\n",
              "  border-bottom: 2px solid var(--sklearn-color-text-on-default-background);\n",
              "  flex-grow: 1;\n",
              "}\n",
              "\n",
              "#sk-container-id-2 div.sk-parallel {\n",
              "  display: flex;\n",
              "  align-items: stretch;\n",
              "  justify-content: center;\n",
              "  background-color: var(--sklearn-color-background);\n",
              "  position: relative;\n",
              "}\n",
              "\n",
              "#sk-container-id-2 div.sk-parallel-item {\n",
              "  display: flex;\n",
              "  flex-direction: column;\n",
              "}\n",
              "\n",
              "#sk-container-id-2 div.sk-parallel-item:first-child::after {\n",
              "  align-self: flex-end;\n",
              "  width: 50%;\n",
              "}\n",
              "\n",
              "#sk-container-id-2 div.sk-parallel-item:last-child::after {\n",
              "  align-self: flex-start;\n",
              "  width: 50%;\n",
              "}\n",
              "\n",
              "#sk-container-id-2 div.sk-parallel-item:only-child::after {\n",
              "  width: 0;\n",
              "}\n",
              "\n",
              "/* Serial-specific style estimator block */\n",
              "\n",
              "#sk-container-id-2 div.sk-serial {\n",
              "  display: flex;\n",
              "  flex-direction: column;\n",
              "  align-items: center;\n",
              "  background-color: var(--sklearn-color-background);\n",
              "  padding-right: 1em;\n",
              "  padding-left: 1em;\n",
              "}\n",
              "\n",
              "\n",
              "/* Toggleable style: style used for estimator/Pipeline/ColumnTransformer box that is\n",
              "clickable and can be expanded/collapsed.\n",
              "- Pipeline and ColumnTransformer use this feature and define the default style\n",
              "- Estimators will overwrite some part of the style using the `sk-estimator` class\n",
              "*/\n",
              "\n",
              "/* Pipeline and ColumnTransformer style (default) */\n",
              "\n",
              "#sk-container-id-2 div.sk-toggleable {\n",
              "  /* Default theme specific background. It is overwritten whether we have a\n",
              "  specific estimator or a Pipeline/ColumnTransformer */\n",
              "  background-color: var(--sklearn-color-background);\n",
              "}\n",
              "\n",
              "/* Toggleable label */\n",
              "#sk-container-id-2 label.sk-toggleable__label {\n",
              "  cursor: pointer;\n",
              "  display: flex;\n",
              "  width: 100%;\n",
              "  margin-bottom: 0;\n",
              "  padding: 0.5em;\n",
              "  box-sizing: border-box;\n",
              "  text-align: center;\n",
              "  align-items: start;\n",
              "  justify-content: space-between;\n",
              "  gap: 0.5em;\n",
              "}\n",
              "\n",
              "#sk-container-id-2 label.sk-toggleable__label .caption {\n",
              "  font-size: 0.6rem;\n",
              "  font-weight: lighter;\n",
              "  color: var(--sklearn-color-text-muted);\n",
              "}\n",
              "\n",
              "#sk-container-id-2 label.sk-toggleable__label-arrow:before {\n",
              "  /* Arrow on the left of the label */\n",
              "  content: \"▸\";\n",
              "  float: left;\n",
              "  margin-right: 0.25em;\n",
              "  color: var(--sklearn-color-icon);\n",
              "}\n",
              "\n",
              "#sk-container-id-2 label.sk-toggleable__label-arrow:hover:before {\n",
              "  color: var(--sklearn-color-text);\n",
              "}\n",
              "\n",
              "/* Toggleable content - dropdown */\n",
              "\n",
              "#sk-container-id-2 div.sk-toggleable__content {\n",
              "  max-height: 0;\n",
              "  max-width: 0;\n",
              "  overflow: hidden;\n",
              "  text-align: left;\n",
              "  /* unfitted */\n",
              "  background-color: var(--sklearn-color-unfitted-level-0);\n",
              "}\n",
              "\n",
              "#sk-container-id-2 div.sk-toggleable__content.fitted {\n",
              "  /* fitted */\n",
              "  background-color: var(--sklearn-color-fitted-level-0);\n",
              "}\n",
              "\n",
              "#sk-container-id-2 div.sk-toggleable__content pre {\n",
              "  margin: 0.2em;\n",
              "  border-radius: 0.25em;\n",
              "  color: var(--sklearn-color-text);\n",
              "  /* unfitted */\n",
              "  background-color: var(--sklearn-color-unfitted-level-0);\n",
              "}\n",
              "\n",
              "#sk-container-id-2 div.sk-toggleable__content.fitted pre {\n",
              "  /* unfitted */\n",
              "  background-color: var(--sklearn-color-fitted-level-0);\n",
              "}\n",
              "\n",
              "#sk-container-id-2 input.sk-toggleable__control:checked~div.sk-toggleable__content {\n",
              "  /* Expand drop-down */\n",
              "  max-height: 200px;\n",
              "  max-width: 100%;\n",
              "  overflow: auto;\n",
              "}\n",
              "\n",
              "#sk-container-id-2 input.sk-toggleable__control:checked~label.sk-toggleable__label-arrow:before {\n",
              "  content: \"▾\";\n",
              "}\n",
              "\n",
              "/* Pipeline/ColumnTransformer-specific style */\n",
              "\n",
              "#sk-container-id-2 div.sk-label input.sk-toggleable__control:checked~label.sk-toggleable__label {\n",
              "  color: var(--sklearn-color-text);\n",
              "  background-color: var(--sklearn-color-unfitted-level-2);\n",
              "}\n",
              "\n",
              "#sk-container-id-2 div.sk-label.fitted input.sk-toggleable__control:checked~label.sk-toggleable__label {\n",
              "  background-color: var(--sklearn-color-fitted-level-2);\n",
              "}\n",
              "\n",
              "/* Estimator-specific style */\n",
              "\n",
              "/* Colorize estimator box */\n",
              "#sk-container-id-2 div.sk-estimator input.sk-toggleable__control:checked~label.sk-toggleable__label {\n",
              "  /* unfitted */\n",
              "  background-color: var(--sklearn-color-unfitted-level-2);\n",
              "}\n",
              "\n",
              "#sk-container-id-2 div.sk-estimator.fitted input.sk-toggleable__control:checked~label.sk-toggleable__label {\n",
              "  /* fitted */\n",
              "  background-color: var(--sklearn-color-fitted-level-2);\n",
              "}\n",
              "\n",
              "#sk-container-id-2 div.sk-label label.sk-toggleable__label,\n",
              "#sk-container-id-2 div.sk-label label {\n",
              "  /* The background is the default theme color */\n",
              "  color: var(--sklearn-color-text-on-default-background);\n",
              "}\n",
              "\n",
              "/* On hover, darken the color of the background */\n",
              "#sk-container-id-2 div.sk-label:hover label.sk-toggleable__label {\n",
              "  color: var(--sklearn-color-text);\n",
              "  background-color: var(--sklearn-color-unfitted-level-2);\n",
              "}\n",
              "\n",
              "/* Label box, darken color on hover, fitted */\n",
              "#sk-container-id-2 div.sk-label.fitted:hover label.sk-toggleable__label.fitted {\n",
              "  color: var(--sklearn-color-text);\n",
              "  background-color: var(--sklearn-color-fitted-level-2);\n",
              "}\n",
              "\n",
              "/* Estimator label */\n",
              "\n",
              "#sk-container-id-2 div.sk-label label {\n",
              "  font-family: monospace;\n",
              "  font-weight: bold;\n",
              "  display: inline-block;\n",
              "  line-height: 1.2em;\n",
              "}\n",
              "\n",
              "#sk-container-id-2 div.sk-label-container {\n",
              "  text-align: center;\n",
              "}\n",
              "\n",
              "/* Estimator-specific */\n",
              "#sk-container-id-2 div.sk-estimator {\n",
              "  font-family: monospace;\n",
              "  border: 1px dotted var(--sklearn-color-border-box);\n",
              "  border-radius: 0.25em;\n",
              "  box-sizing: border-box;\n",
              "  margin-bottom: 0.5em;\n",
              "  /* unfitted */\n",
              "  background-color: var(--sklearn-color-unfitted-level-0);\n",
              "}\n",
              "\n",
              "#sk-container-id-2 div.sk-estimator.fitted {\n",
              "  /* fitted */\n",
              "  background-color: var(--sklearn-color-fitted-level-0);\n",
              "}\n",
              "\n",
              "/* on hover */\n",
              "#sk-container-id-2 div.sk-estimator:hover {\n",
              "  /* unfitted */\n",
              "  background-color: var(--sklearn-color-unfitted-level-2);\n",
              "}\n",
              "\n",
              "#sk-container-id-2 div.sk-estimator.fitted:hover {\n",
              "  /* fitted */\n",
              "  background-color: var(--sklearn-color-fitted-level-2);\n",
              "}\n",
              "\n",
              "/* Specification for estimator info (e.g. \"i\" and \"?\") */\n",
              "\n",
              "/* Common style for \"i\" and \"?\" */\n",
              "\n",
              ".sk-estimator-doc-link,\n",
              "a:link.sk-estimator-doc-link,\n",
              "a:visited.sk-estimator-doc-link {\n",
              "  float: right;\n",
              "  font-size: smaller;\n",
              "  line-height: 1em;\n",
              "  font-family: monospace;\n",
              "  background-color: var(--sklearn-color-background);\n",
              "  border-radius: 1em;\n",
              "  height: 1em;\n",
              "  width: 1em;\n",
              "  text-decoration: none !important;\n",
              "  margin-left: 0.5em;\n",
              "  text-align: center;\n",
              "  /* unfitted */\n",
              "  border: var(--sklearn-color-unfitted-level-1) 1pt solid;\n",
              "  color: var(--sklearn-color-unfitted-level-1);\n",
              "}\n",
              "\n",
              ".sk-estimator-doc-link.fitted,\n",
              "a:link.sk-estimator-doc-link.fitted,\n",
              "a:visited.sk-estimator-doc-link.fitted {\n",
              "  /* fitted */\n",
              "  border: var(--sklearn-color-fitted-level-1) 1pt solid;\n",
              "  color: var(--sklearn-color-fitted-level-1);\n",
              "}\n",
              "\n",
              "/* On hover */\n",
              "div.sk-estimator:hover .sk-estimator-doc-link:hover,\n",
              ".sk-estimator-doc-link:hover,\n",
              "div.sk-label-container:hover .sk-estimator-doc-link:hover,\n",
              ".sk-estimator-doc-link:hover {\n",
              "  /* unfitted */\n",
              "  background-color: var(--sklearn-color-unfitted-level-3);\n",
              "  color: var(--sklearn-color-background);\n",
              "  text-decoration: none;\n",
              "}\n",
              "\n",
              "div.sk-estimator.fitted:hover .sk-estimator-doc-link.fitted:hover,\n",
              ".sk-estimator-doc-link.fitted:hover,\n",
              "div.sk-label-container:hover .sk-estimator-doc-link.fitted:hover,\n",
              ".sk-estimator-doc-link.fitted:hover {\n",
              "  /* fitted */\n",
              "  background-color: var(--sklearn-color-fitted-level-3);\n",
              "  color: var(--sklearn-color-background);\n",
              "  text-decoration: none;\n",
              "}\n",
              "\n",
              "/* Span, style for the box shown on hovering the info icon */\n",
              ".sk-estimator-doc-link span {\n",
              "  display: none;\n",
              "  z-index: 9999;\n",
              "  position: relative;\n",
              "  font-weight: normal;\n",
              "  right: .2ex;\n",
              "  padding: .5ex;\n",
              "  margin: .5ex;\n",
              "  width: min-content;\n",
              "  min-width: 20ex;\n",
              "  max-width: 50ex;\n",
              "  color: var(--sklearn-color-text);\n",
              "  box-shadow: 2pt 2pt 4pt #999;\n",
              "  /* unfitted */\n",
              "  background: var(--sklearn-color-unfitted-level-0);\n",
              "  border: .5pt solid var(--sklearn-color-unfitted-level-3);\n",
              "}\n",
              "\n",
              ".sk-estimator-doc-link.fitted span {\n",
              "  /* fitted */\n",
              "  background: var(--sklearn-color-fitted-level-0);\n",
              "  border: var(--sklearn-color-fitted-level-3);\n",
              "}\n",
              "\n",
              ".sk-estimator-doc-link:hover span {\n",
              "  display: block;\n",
              "}\n",
              "\n",
              "/* \"?\"-specific style due to the `<a>` HTML tag */\n",
              "\n",
              "#sk-container-id-2 a.estimator_doc_link {\n",
              "  float: right;\n",
              "  font-size: 1rem;\n",
              "  line-height: 1em;\n",
              "  font-family: monospace;\n",
              "  background-color: var(--sklearn-color-background);\n",
              "  border-radius: 1rem;\n",
              "  height: 1rem;\n",
              "  width: 1rem;\n",
              "  text-decoration: none;\n",
              "  /* unfitted */\n",
              "  color: var(--sklearn-color-unfitted-level-1);\n",
              "  border: var(--sklearn-color-unfitted-level-1) 1pt solid;\n",
              "}\n",
              "\n",
              "#sk-container-id-2 a.estimator_doc_link.fitted {\n",
              "  /* fitted */\n",
              "  border: var(--sklearn-color-fitted-level-1) 1pt solid;\n",
              "  color: var(--sklearn-color-fitted-level-1);\n",
              "}\n",
              "\n",
              "/* On hover */\n",
              "#sk-container-id-2 a.estimator_doc_link:hover {\n",
              "  /* unfitted */\n",
              "  background-color: var(--sklearn-color-unfitted-level-3);\n",
              "  color: var(--sklearn-color-background);\n",
              "  text-decoration: none;\n",
              "}\n",
              "\n",
              "#sk-container-id-2 a.estimator_doc_link.fitted:hover {\n",
              "  /* fitted */\n",
              "  background-color: var(--sklearn-color-fitted-level-3);\n",
              "}\n",
              "</style><div id=\"sk-container-id-2\" class=\"sk-top-container\"><div class=\"sk-text-repr-fallback\"><pre>LogisticRegression()</pre><b>In a Jupyter environment, please rerun this cell to show the HTML representation or trust the notebook. <br />On GitHub, the HTML representation is unable to render, please try loading this page with nbviewer.org.</b></div><div class=\"sk-container\" hidden><div class=\"sk-item\"><div class=\"sk-estimator fitted sk-toggleable\"><input class=\"sk-toggleable__control sk-hidden--visually\" id=\"sk-estimator-id-2\" type=\"checkbox\" checked><label for=\"sk-estimator-id-2\" class=\"sk-toggleable__label fitted sk-toggleable__label-arrow\"><div><div>LogisticRegression</div></div><div><a class=\"sk-estimator-doc-link fitted\" rel=\"noreferrer\" target=\"_blank\" href=\"https://scikit-learn.org/1.6/modules/generated/sklearn.linear_model.LogisticRegression.html\">?<span>Documentation for LogisticRegression</span></a><span class=\"sk-estimator-doc-link fitted\">i<span>Fitted</span></span></div></label><div class=\"sk-toggleable__content fitted\"><pre>LogisticRegression()</pre></div> </div></div></div></div>"
            ]
          },
          "metadata": {},
          "execution_count": 45
        }
      ]
    },
    {
      "cell_type": "code",
      "source": [
        "# Predict on test data to test the model.\n",
        "y_pred = model.predict(X_test)  # to check the performance, we use the testing data split"
      ],
      "metadata": {
        "id": "2dBML2Fh5tVx"
      },
      "execution_count": 46,
      "outputs": []
    },
    {
      "cell_type": "code",
      "source": [
        "# Same as before in example 1!\n",
        "correct_mask = (y_pred == y_test)  # the predictions from testing features is supposed to be compared to labels of testing data\n",
        "correct_count = correct_mask.sum()\n",
        "total_count = len(y_pred)\n",
        "\n",
        "print(f'The model predicted {correct_count} out of {total_count} predictions')\n",
        "print(f'The Accuracy is {correct_count/total_count} ({correct_count/total_count*100}%)')"
      ],
      "metadata": {
        "colab": {
          "base_uri": "https://localhost:8080/"
        },
        "id": "nB_91KQB50WQ",
        "outputId": "69bd4ada-57c7-4870-8033-0f93705bb207"
      },
      "execution_count": 47,
      "outputs": [
        {
          "output_type": "stream",
          "name": "stdout",
          "text": [
            "The model predicted 30 out of 30 predictions\n",
            "The Accuracy is 1.0 (100.0%)\n"
          ]
        }
      ]
    },
    {
      "cell_type": "code",
      "source": [
        "# Showing the confusion matrix.\n",
        "\n",
        "matrix = confusion_matrix(y_test, y_pred)\n",
        "\n",
        "tp = matrix[0][0]\n",
        "fp = matrix[0][1]\n",
        "fn = matrix[1][0]\n",
        "tn = matrix[1][1]\n",
        "\n",
        "# Calculating the evaluation metrics. Review their formulas.\n",
        "precision = tp / (tp + fp)\n",
        "recall = tp / (tp + fn)\n",
        "f1_score = 2 / (1/precision + 1/recall)\n",
        "\n",
        "\n",
        "print(f'Precision: {precision}')\n",
        "print(f'Recall: {recall}')\n",
        "print(f'F1 Score: {f1_score}')"
      ],
      "metadata": {
        "colab": {
          "base_uri": "https://localhost:8080/"
        },
        "id": "DWWM9dxDLvI4",
        "outputId": "f9264a42-042c-454e-bdd8-c19e58aa8b1a"
      },
      "execution_count": 48,
      "outputs": [
        {
          "output_type": "stream",
          "name": "stdout",
          "text": [
            "Precision: 1.0\n",
            "Recall: 1.0\n",
            "F1 Score: 1.0\n"
          ]
        }
      ]
    },
    {
      "cell_type": "markdown",
      "source": [
        "END."
      ],
      "metadata": {
        "id": "Yh9B854fWTle"
      }
    }
  ]
}